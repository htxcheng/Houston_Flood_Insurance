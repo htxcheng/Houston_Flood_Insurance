{
 "cells": [
  {
   "cell_type": "markdown",
   "metadata": {},
   "source": [
    "# 1 Data wrangling<a id='2_Data_wrangling'></a>"
   ]
  },
  {
   "cell_type": "markdown",
   "metadata": {},
   "source": [
    "## 1.1 Contents<a id='1.1_Contents'></a>\n",
    "\n",
    "* [1.1 Contents](#1.1_Contents)\n",
    "* [1.2 Introduction](#1.2_Introduction)\n",
    "* [1.3 Imports](#1.3_Imports)\n",
    "* [1.4 Load the 2019 Dataset](#1.4_Load_the_2019_dataset)\n",
    "* [1.5 Explore Data](#1.5_Explore_Data)\n",
    "    * [1.5.1 Overview of the Dataset](#1.5.1_Overview_of_Dataset)\n",
    "    * [1.5.2 Number of Missing Values by Column](#1.5.2_Number_of_Missing_Values_by_Column)\n",
    "    * [1.5.3 Categorical Features](#1.5.3_Categorical_Features)\n",
    "    * [1.5.4 Numeric Features](#1.5.4_Numeric_Features)\n",
    "        * [1.5.4.1 Numeric Data Summary](#1.5.4.1_Numeric_Data_Summary)    \n",
    "        * [1.5.4.2 Distributions of Feature Values](#1.5.4.2_Distributions_of_Feature_Values)        \n",
    "        * [1.5.4.3 Missing Numeric Values](#1.5.4.3_Missing_Numeric_Values)     \n",
    "        * [1.5.4.4 Select Policy with One-year Period](#1.5.4.4_One-year_Policy)            \n",
    "        * [1.5.4.5 Calculate the Building Age](#1.5.4.5_Buidling_Age)          \n",
    "        * [1.5.4.5 Data Exploration for a Few Features](#1.5.4.6_Exploration_Features)       \n",
    "    * [1.5.5 Target](#1.5.5_Target)    \n",
    "* [1.6 Data Cleaning and Save New Data](#1.6_Data_Cleaning)    \n",
    "* [1.7 Summary](#1.7_Summary) \n",
    "   "
   ]
  },
  {
   "cell_type": "markdown",
   "metadata": {},
   "source": [
    "## 1.2 Introduction<a id='1.2_Introduction'></a>"
   ]
  },
  {
   "cell_type": "markdown",
   "metadata": {},
   "source": [
    "FEMA has National Flood Insurance Program (NFIP) which provides flood insurance to the property owners, renters, and business owners. The program has the insurance policy information of more than 23,000 participating NFIP communities across the U.S., including Houston area (https://www.fema.gov/openfema-data-page/fima-nfip-redacted-policies-v1). \n",
    "\n",
    "The dataset is updated every 40 to 60 days according to the FEMA website, and the dataset used in this study was downloaded in May 2022, which includes the flood insurance policy information from 2009 to 2019. \n",
    "\n",
    "After the preliminary exploration of the dataset by filtering the policy information for Houston area in 2018 and 2019, more than 300,000 records are obtained before data cleaning and pre-processing. The preliminary approach is to use 2018 or 2019 data only in the machine learning model, which will reduce the number of records to around 100,000. \n",
    "\n",
    "Because the original dataset size is about 12GB, it cannot be uploaded to Github. Thus, preliminary data processing is conducted using the script below to extract the data for Houston area in 2018 and 2019. After that, additional step is taken to generate the spreadsheets for 2018 and 2019 datasets, respectively. For this Jupyter Notebook, the 2019 dataset is explored. If 2018 dataset is determined to be needed in the machine learning model as well, the same approach will be used to clean and pre-process the 2018 dataset.\n",
    "\n",
    "import pandas as pd\n",
    "\n",
    "from datetime import datetime\n",
    "\n",
    "data ='nfip-flood-policies.csv'\n",
    "\n",
    "chunksize = 10 ** 6\n",
    "\n",
    "for i, chunk in enumerate(pd.read_csv(data, parse_dates=['policyeffectivedate'], chunksize = chunksize, low_memory=False)):\n",
    "\n",
    "    data = chunk[(chunk['propertystate'] == 'TX') & (chunk['policyeffectivedate'].dt.year >= 2018) & (chunk['reportedcity'].str.contains('HOUSTON'))]\n",
    "    data.to_csv('nfip-flood-policies-tx-after-2018-{}.csv'.format(i), index=False)\n"
   ]
  },
  {
   "cell_type": "markdown",
   "metadata": {},
   "source": [
    "## 1.3 Imports<a id='1.3_Imports'></a>"
   ]
  },
  {
   "cell_type": "code",
   "execution_count": 1,
   "metadata": {},
   "outputs": [],
   "source": [
    "import pandas as pd\n",
    "import matplotlib.pyplot as plt\n",
    "import seaborn as sns\n",
    "import os\n",
    "from datetime import datetime\n",
    "%matplotlib inline\n",
    "sns.set(style=\"darkgrid\")"
   ]
  },
  {
   "cell_type": "markdown",
   "metadata": {},
   "source": [
    "## 1.4 Load the 2019 Dataset<a id='1.4_Load_the_2019_dataset'></a>"
   ]
  },
  {
   "cell_type": "code",
   "execution_count": 4,
   "metadata": {},
   "outputs": [],
   "source": [
    "data2019 = pd.read_excel('../data/nfip-flood-policies-houston-2019.xlsx', sheet_name='2019', \n",
    "                         parse_dates=['originalconstructiondate', 'policyterminationdate', 'policyeffectivedate'])"
   ]
  },
  {
   "cell_type": "markdown",
   "metadata": {},
   "source": [
    "## 1.5 Explore Data<a id='1.5_Explore_Data'></a>"
   ]
  },
  {
   "cell_type": "markdown",
   "metadata": {},
   "source": [
    "### 1.5.1 Overview of the Dataset<a id='1.5.1_Overview_of_Dataset'></a>"
   ]
  },
  {
   "cell_type": "markdown",
   "metadata": {},
   "source": [
    "Check the size of the dataset"
   ]
  },
  {
   "cell_type": "code",
   "execution_count": 5,
   "metadata": {},
   "outputs": [
    {
     "data": {
      "text/plain": [
       "(155018, 45)"
      ]
     },
     "execution_count": 5,
     "metadata": {},
     "output_type": "execute_result"
    }
   ],
   "source": [
    "data2019.shape"
   ]
  },
  {
   "cell_type": "markdown",
   "metadata": {},
   "source": [
    "We can see there are 45 columns (features + target) and 155,018 rows. This is a lot of data! Some of the columns (features) can be removed in the modeling."
   ]
  },
  {
   "cell_type": "markdown",
   "metadata": {},
   "source": [
    "Let's drop the duplicate records. "
   ]
  },
  {
   "cell_type": "code",
   "execution_count": 6,
   "metadata": {},
   "outputs": [
    {
     "data": {
      "text/plain": [
       "(152557, 45)"
      ]
     },
     "execution_count": 6,
     "metadata": {},
     "output_type": "execute_result"
    }
   ],
   "source": [
    "data2019.drop_duplicates(keep='first', inplace=True)\n",
    "data2019.shape"
   ]
  },
  {
   "cell_type": "markdown",
   "metadata": {},
   "source": [
    "We still have more than 152,000 records left."
   ]
  },
  {
   "cell_type": "markdown",
   "metadata": {},
   "source": [
    "Check the first 10 rows"
   ]
  },
  {
   "cell_type": "code",
   "execution_count": 7,
   "metadata": {},
   "outputs": [
    {
     "data": {
      "text/html": [
       "<div>\n",
       "<style scoped>\n",
       "    .dataframe tbody tr th:only-of-type {\n",
       "        vertical-align: middle;\n",
       "    }\n",
       "\n",
       "    .dataframe tbody tr th {\n",
       "        vertical-align: top;\n",
       "    }\n",
       "\n",
       "    .dataframe thead th {\n",
       "        text-align: right;\n",
       "    }\n",
       "</style>\n",
       "<table border=\"1\" class=\"dataframe\">\n",
       "  <thead>\n",
       "    <tr style=\"text-align: right;\">\n",
       "      <th></th>\n",
       "      <th>agriculturestructureindicator</th>\n",
       "      <th>basefloodelevation</th>\n",
       "      <th>basementenclosurecrawlspacetype</th>\n",
       "      <th>cancellationdateoffloodpolicy</th>\n",
       "      <th>censustract</th>\n",
       "      <th>condominiumindicator</th>\n",
       "      <th>construction</th>\n",
       "      <th>countycode</th>\n",
       "      <th>crsdiscount</th>\n",
       "      <th>deductibleamountinbuildingcoverage</th>\n",
       "      <th>...</th>\n",
       "      <th>primaryresidenceindicator</th>\n",
       "      <th>propertystate</th>\n",
       "      <th>reportedzipcode</th>\n",
       "      <th>ratemethod</th>\n",
       "      <th>regularemergencyprogramindicator</th>\n",
       "      <th>reportedcity</th>\n",
       "      <th>smallbusinessindicatorbuilding</th>\n",
       "      <th>totalbuildinginsurancecoverage</th>\n",
       "      <th>totalcontentsinsurancecoverage</th>\n",
       "      <th>totalinsurancepremiumofthepolicy</th>\n",
       "    </tr>\n",
       "  </thead>\n",
       "  <tbody>\n",
       "    <tr>\n",
       "      <th>0</th>\n",
       "      <td>N</td>\n",
       "      <td>NaN</td>\n",
       "      <td>0.0</td>\n",
       "      <td>NaT</td>\n",
       "      <td>4.820143e+10</td>\n",
       "      <td>N</td>\n",
       "      <td>N</td>\n",
       "      <td>48201.0</td>\n",
       "      <td>0.00</td>\n",
       "      <td>F</td>\n",
       "      <td>...</td>\n",
       "      <td>N</td>\n",
       "      <td>TX</td>\n",
       "      <td>77024</td>\n",
       "      <td>7</td>\n",
       "      <td>R</td>\n",
       "      <td>HOUSTON</td>\n",
       "      <td>N</td>\n",
       "      <td>250000</td>\n",
       "      <td>100000</td>\n",
       "      <td>376</td>\n",
       "    </tr>\n",
       "    <tr>\n",
       "      <th>1</th>\n",
       "      <td>N</td>\n",
       "      <td>NaN</td>\n",
       "      <td>0.0</td>\n",
       "      <td>NaT</td>\n",
       "      <td>4.820152e+10</td>\n",
       "      <td>N</td>\n",
       "      <td>N</td>\n",
       "      <td>48201.0</td>\n",
       "      <td>0.00</td>\n",
       "      <td>F</td>\n",
       "      <td>...</td>\n",
       "      <td>Y</td>\n",
       "      <td>TX</td>\n",
       "      <td>77043</td>\n",
       "      <td>7</td>\n",
       "      <td>R</td>\n",
       "      <td>HOUSTON</td>\n",
       "      <td>N</td>\n",
       "      <td>200000</td>\n",
       "      <td>80000</td>\n",
       "      <td>353</td>\n",
       "    </tr>\n",
       "    <tr>\n",
       "      <th>2</th>\n",
       "      <td>N</td>\n",
       "      <td>NaN</td>\n",
       "      <td>0.0</td>\n",
       "      <td>NaT</td>\n",
       "      <td>4.820154e+10</td>\n",
       "      <td>N</td>\n",
       "      <td>N</td>\n",
       "      <td>48201.0</td>\n",
       "      <td>0.00</td>\n",
       "      <td>F</td>\n",
       "      <td>...</td>\n",
       "      <td>Y</td>\n",
       "      <td>TX</td>\n",
       "      <td>77084</td>\n",
       "      <td>7</td>\n",
       "      <td>R</td>\n",
       "      <td>HOUSTON</td>\n",
       "      <td>N</td>\n",
       "      <td>250000</td>\n",
       "      <td>100000</td>\n",
       "      <td>374</td>\n",
       "    </tr>\n",
       "    <tr>\n",
       "      <th>3</th>\n",
       "      <td>N</td>\n",
       "      <td>NaN</td>\n",
       "      <td>0.0</td>\n",
       "      <td>NaT</td>\n",
       "      <td>NaN</td>\n",
       "      <td>N</td>\n",
       "      <td>N</td>\n",
       "      <td>NaN</td>\n",
       "      <td>0.00</td>\n",
       "      <td>F</td>\n",
       "      <td>...</td>\n",
       "      <td>Y</td>\n",
       "      <td>TX</td>\n",
       "      <td>77008</td>\n",
       "      <td>7</td>\n",
       "      <td>R</td>\n",
       "      <td>HOUSTON</td>\n",
       "      <td>N</td>\n",
       "      <td>250000</td>\n",
       "      <td>100000</td>\n",
       "      <td>376</td>\n",
       "    </tr>\n",
       "    <tr>\n",
       "      <th>4</th>\n",
       "      <td>N</td>\n",
       "      <td>NaN</td>\n",
       "      <td>0.0</td>\n",
       "      <td>NaT</td>\n",
       "      <td>NaN</td>\n",
       "      <td>N</td>\n",
       "      <td>N</td>\n",
       "      <td>48201.0</td>\n",
       "      <td>0.00</td>\n",
       "      <td>F</td>\n",
       "      <td>...</td>\n",
       "      <td>Y</td>\n",
       "      <td>TX</td>\n",
       "      <td>77067</td>\n",
       "      <td>7</td>\n",
       "      <td>R</td>\n",
       "      <td>HOUSTON</td>\n",
       "      <td>N</td>\n",
       "      <td>250000</td>\n",
       "      <td>100000</td>\n",
       "      <td>376</td>\n",
       "    </tr>\n",
       "    <tr>\n",
       "      <th>5</th>\n",
       "      <td>NaN</td>\n",
       "      <td>113.8</td>\n",
       "      <td>0.0</td>\n",
       "      <td>NaT</td>\n",
       "      <td>4.820154e+10</td>\n",
       "      <td>N</td>\n",
       "      <td>N</td>\n",
       "      <td>48201.0</td>\n",
       "      <td>0.15</td>\n",
       "      <td>3</td>\n",
       "      <td>...</td>\n",
       "      <td>Y</td>\n",
       "      <td>TX</td>\n",
       "      <td>77084</td>\n",
       "      <td>1</td>\n",
       "      <td>R</td>\n",
       "      <td>HOUSTON</td>\n",
       "      <td>N</td>\n",
       "      <td>199700</td>\n",
       "      <td>55100</td>\n",
       "      <td>726</td>\n",
       "    </tr>\n",
       "    <tr>\n",
       "      <th>6</th>\n",
       "      <td>N</td>\n",
       "      <td>83.1</td>\n",
       "      <td>0.0</td>\n",
       "      <td>NaT</td>\n",
       "      <td>4.820153e+10</td>\n",
       "      <td>N</td>\n",
       "      <td>N</td>\n",
       "      <td>48201.0</td>\n",
       "      <td>0.25</td>\n",
       "      <td>E</td>\n",
       "      <td>...</td>\n",
       "      <td>N</td>\n",
       "      <td>TX</td>\n",
       "      <td>77040</td>\n",
       "      <td>1</td>\n",
       "      <td>R</td>\n",
       "      <td>HOUSTON</td>\n",
       "      <td>Y</td>\n",
       "      <td>500000</td>\n",
       "      <td>275600</td>\n",
       "      <td>2588</td>\n",
       "    </tr>\n",
       "    <tr>\n",
       "      <th>7</th>\n",
       "      <td>N</td>\n",
       "      <td>NaN</td>\n",
       "      <td>0.0</td>\n",
       "      <td>NaT</td>\n",
       "      <td>4.820154e+10</td>\n",
       "      <td>N</td>\n",
       "      <td>N</td>\n",
       "      <td>48201.0</td>\n",
       "      <td>0.00</td>\n",
       "      <td>F</td>\n",
       "      <td>...</td>\n",
       "      <td>N</td>\n",
       "      <td>TX</td>\n",
       "      <td>77084</td>\n",
       "      <td>7</td>\n",
       "      <td>R</td>\n",
       "      <td>HOUSTON</td>\n",
       "      <td>N</td>\n",
       "      <td>150000</td>\n",
       "      <td>60000</td>\n",
       "      <td>320</td>\n",
       "    </tr>\n",
       "    <tr>\n",
       "      <th>8</th>\n",
       "      <td>NaN</td>\n",
       "      <td>NaN</td>\n",
       "      <td>0.0</td>\n",
       "      <td>NaT</td>\n",
       "      <td>4.820133e+10</td>\n",
       "      <td>N</td>\n",
       "      <td>N</td>\n",
       "      <td>48201.0</td>\n",
       "      <td>0.00</td>\n",
       "      <td>F</td>\n",
       "      <td>...</td>\n",
       "      <td>Y</td>\n",
       "      <td>TX</td>\n",
       "      <td>77047</td>\n",
       "      <td>7</td>\n",
       "      <td>R</td>\n",
       "      <td>HOUSTON</td>\n",
       "      <td>N</td>\n",
       "      <td>250000</td>\n",
       "      <td>100000</td>\n",
       "      <td>376</td>\n",
       "    </tr>\n",
       "    <tr>\n",
       "      <th>9</th>\n",
       "      <td>N</td>\n",
       "      <td>NaN</td>\n",
       "      <td>0.0</td>\n",
       "      <td>NaT</td>\n",
       "      <td>4.820124e+10</td>\n",
       "      <td>N</td>\n",
       "      <td>N</td>\n",
       "      <td>48201.0</td>\n",
       "      <td>0.15</td>\n",
       "      <td>G</td>\n",
       "      <td>...</td>\n",
       "      <td>Y</td>\n",
       "      <td>TX</td>\n",
       "      <td>77032</td>\n",
       "      <td>1</td>\n",
       "      <td>R</td>\n",
       "      <td>HOUSTON</td>\n",
       "      <td>N</td>\n",
       "      <td>91000</td>\n",
       "      <td>0</td>\n",
       "      <td>924</td>\n",
       "    </tr>\n",
       "  </tbody>\n",
       "</table>\n",
       "<p>10 rows × 45 columns</p>\n",
       "</div>"
      ],
      "text/plain": [
       "  agriculturestructureindicator  basefloodelevation  \\\n",
       "0                             N                 NaN   \n",
       "1                             N                 NaN   \n",
       "2                             N                 NaN   \n",
       "3                             N                 NaN   \n",
       "4                             N                 NaN   \n",
       "5                           NaN               113.8   \n",
       "6                             N                83.1   \n",
       "7                             N                 NaN   \n",
       "8                           NaN                 NaN   \n",
       "9                             N                 NaN   \n",
       "\n",
       "   basementenclosurecrawlspacetype cancellationdateoffloodpolicy  \\\n",
       "0                              0.0                           NaT   \n",
       "1                              0.0                           NaT   \n",
       "2                              0.0                           NaT   \n",
       "3                              0.0                           NaT   \n",
       "4                              0.0                           NaT   \n",
       "5                              0.0                           NaT   \n",
       "6                              0.0                           NaT   \n",
       "7                              0.0                           NaT   \n",
       "8                              0.0                           NaT   \n",
       "9                              0.0                           NaT   \n",
       "\n",
       "    censustract condominiumindicator construction  countycode  crsdiscount  \\\n",
       "0  4.820143e+10                    N            N     48201.0         0.00   \n",
       "1  4.820152e+10                    N            N     48201.0         0.00   \n",
       "2  4.820154e+10                    N            N     48201.0         0.00   \n",
       "3           NaN                    N            N         NaN         0.00   \n",
       "4           NaN                    N            N     48201.0         0.00   \n",
       "5  4.820154e+10                    N            N     48201.0         0.15   \n",
       "6  4.820153e+10                    N            N     48201.0         0.25   \n",
       "7  4.820154e+10                    N            N     48201.0         0.00   \n",
       "8  4.820133e+10                    N            N     48201.0         0.00   \n",
       "9  4.820124e+10                    N            N     48201.0         0.15   \n",
       "\n",
       "  deductibleamountinbuildingcoverage  ... primaryresidenceindicator  \\\n",
       "0                                  F  ...                         N   \n",
       "1                                  F  ...                         Y   \n",
       "2                                  F  ...                         Y   \n",
       "3                                  F  ...                         Y   \n",
       "4                                  F  ...                         Y   \n",
       "5                                  3  ...                         Y   \n",
       "6                                  E  ...                         N   \n",
       "7                                  F  ...                         N   \n",
       "8                                  F  ...                         Y   \n",
       "9                                  G  ...                         Y   \n",
       "\n",
       "  propertystate reportedzipcode  ratemethod  regularemergencyprogramindicator  \\\n",
       "0            TX           77024           7                                 R   \n",
       "1            TX           77043           7                                 R   \n",
       "2            TX           77084           7                                 R   \n",
       "3            TX           77008           7                                 R   \n",
       "4            TX           77067           7                                 R   \n",
       "5            TX           77084           1                                 R   \n",
       "6            TX           77040           1                                 R   \n",
       "7            TX           77084           7                                 R   \n",
       "8            TX           77047           7                                 R   \n",
       "9            TX           77032           1                                 R   \n",
       "\n",
       "  reportedcity  smallbusinessindicatorbuilding totalbuildinginsurancecoverage  \\\n",
       "0      HOUSTON                               N                         250000   \n",
       "1      HOUSTON                               N                         200000   \n",
       "2      HOUSTON                               N                         250000   \n",
       "3      HOUSTON                               N                         250000   \n",
       "4      HOUSTON                               N                         250000   \n",
       "5      HOUSTON                               N                         199700   \n",
       "6      HOUSTON                               Y                         500000   \n",
       "7      HOUSTON                               N                         150000   \n",
       "8      HOUSTON                               N                         250000   \n",
       "9      HOUSTON                               N                          91000   \n",
       "\n",
       "   totalcontentsinsurancecoverage totalinsurancepremiumofthepolicy  \n",
       "0                          100000                              376  \n",
       "1                           80000                              353  \n",
       "2                          100000                              374  \n",
       "3                          100000                              376  \n",
       "4                          100000                              376  \n",
       "5                           55100                              726  \n",
       "6                          275600                             2588  \n",
       "7                           60000                              320  \n",
       "8                          100000                              376  \n",
       "9                               0                              924  \n",
       "\n",
       "[10 rows x 45 columns]"
      ]
     },
     "execution_count": 7,
     "metadata": {},
     "output_type": "execute_result"
    }
   ],
   "source": [
    "data2019.head(n=10)"
   ]
  },
  {
   "cell_type": "markdown",
   "metadata": {},
   "source": [
    "We can see that (1) there are missing values in some columns; (2) a lot columns have categorical data such as \"Y\" and \"N\"; (3) some columns may not be used in the machine learning model, such as zipcode, reportedcity, etc. First, we need to get to know what each variable means. The explanation of each variable is shown below, which is obtained from: https://www.fema.gov/openfema-data-page/fima-nfip-redacted-policies-v1"
   ]
  },
  {
   "attachments": {
    "image.png": {
     "image/png": "[encoded data removed]"
    }
   },
   "cell_type": "markdown",
   "metadata": {},
   "source": [
    "\n",
    "![image.png](attachment:image.png)"
   ]
  },
  {
   "cell_type": "markdown",
   "metadata": {},
   "source": [
    "Get a summary of the data"
   ]
  },
  {
   "cell_type": "code",
   "execution_count": 8,
   "metadata": {},
   "outputs": [
    {
     "name": "stdout",
     "output_type": "stream",
     "text": [
      "<class 'pandas.core.frame.DataFrame'>\n",
      "Int64Index: 152557 entries, 0 to 155017\n",
      "Data columns (total 45 columns):\n",
      " #   Column                              Non-Null Count   Dtype         \n",
      "---  ------                              --------------   -----         \n",
      " 0   agriculturestructureindicator       124370 non-null  object        \n",
      " 1   basefloodelevation                  23638 non-null   float64       \n",
      " 2   basementenclosurecrawlspacetype     152551 non-null  float64       \n",
      " 3   cancellationdateoffloodpolicy       816 non-null     datetime64[ns]\n",
      " 4   censustract                         138990 non-null  float64       \n",
      " 5   condominiumindicator                152557 non-null  object        \n",
      " 6   construction                        152557 non-null  object        \n",
      " 7   countycode                          143345 non-null  float64       \n",
      " 8   crsdiscount                         152557 non-null  float64       \n",
      " 9   deductibleamountinbuildingcoverage  149670 non-null  object        \n",
      " 10  deductibleamountincontentscoverage  145220 non-null  object        \n",
      " 11  elevatedbuildingindicator           152551 non-null  object        \n",
      " 12  elevationcertificateindicator       43197 non-null   object        \n",
      " 13  elevationdifference                 152557 non-null  int64         \n",
      " 14  federalpolicyfee                    152557 non-null  int64         \n",
      " 15  floodzone                           152529 non-null  object        \n",
      " 16  hfiaasurcharge                      152557 non-null  int64         \n",
      " 17  houseofworshipindicator             152510 non-null  object        \n",
      " 18  latitude                            138990 non-null  float64       \n",
      " 19  locationofcontents                  127799 non-null  object        \n",
      " 20  longitude                           138990 non-null  float64       \n",
      " 21  lowestadjacentgrade                 23563 non-null   float64       \n",
      " 22  lowestfloorelevation                23821 non-null   float64       \n",
      " 23  nonprofitindicator                  152510 non-null  object        \n",
      " 24  numberoffloorsininsuredbuilding     152526 non-null  float64       \n",
      " 25  obstructiontype                     6665 non-null    float64       \n",
      " 26  occupancytype                       152557 non-null  int64         \n",
      " 27  originalconstructiondate            152530 non-null  datetime64[ns]\n",
      " 28  originalnbdate                      152557 non-null  datetime64[ns]\n",
      " 29  policycost                          152557 non-null  int64         \n",
      " 30  policycount                         152557 non-null  int64         \n",
      " 31  policyeffectivedate                 152557 non-null  datetime64[ns]\n",
      " 32  policyterminationdate               152557 non-null  datetime64[ns]\n",
      " 33  policytermindicator                 152557 non-null  int64         \n",
      " 34  postfirmconstructionindicator       152530 non-null  object        \n",
      " 35  primaryresidenceindicator           152534 non-null  object        \n",
      " 36  propertystate                       152557 non-null  object        \n",
      " 37  reportedzipcode                     152557 non-null  int64         \n",
      " 38  ratemethod                          151520 non-null  object        \n",
      " 39  regularemergencyprogramindicator    152557 non-null  object        \n",
      " 40  reportedcity                        152557 non-null  object        \n",
      " 41  smallbusinessindicatorbuilding      152502 non-null  object        \n",
      " 42  totalbuildinginsurancecoverage      152557 non-null  int64         \n",
      " 43  totalcontentsinsurancecoverage      152557 non-null  int64         \n",
      " 44  totalinsurancepremiumofthepolicy    152557 non-null  int64         \n",
      "dtypes: datetime64[ns](5), float64(11), int64(11), object(18)\n",
      "memory usage: 53.5+ MB\n"
     ]
    }
   ],
   "source": [
    "data2019.info()"
   ]
  },
  {
   "cell_type": "markdown",
   "metadata": {},
   "source": [
    "**`totalinsurancepremiumofthepolicy` is the insurance premium price which is the target.**"
   ]
  },
  {
   "cell_type": "markdown",
   "metadata": {},
   "source": [
    "### 1.5.2 Number of Missing Values by Column<a id='1.5.2_Number_of_Missing_Values_by_Column'></a>"
   ]
  },
  {
   "cell_type": "markdown",
   "metadata": {},
   "source": [
    "Count the number of missing values in each column and sort them."
   ]
  },
  {
   "cell_type": "code",
   "execution_count": 9,
   "metadata": {},
   "outputs": [
    {
     "data": {
      "text/html": [
       "<div>\n",
       "<style scoped>\n",
       "    .dataframe tbody tr th:only-of-type {\n",
       "        vertical-align: middle;\n",
       "    }\n",
       "\n",
       "    .dataframe tbody tr th {\n",
       "        vertical-align: top;\n",
       "    }\n",
       "\n",
       "    .dataframe thead th {\n",
       "        text-align: right;\n",
       "    }\n",
       "</style>\n",
       "<table border=\"1\" class=\"dataframe\">\n",
       "  <thead>\n",
       "    <tr style=\"text-align: right;\">\n",
       "      <th></th>\n",
       "      <th>count</th>\n",
       "      <th>%</th>\n",
       "    </tr>\n",
       "  </thead>\n",
       "  <tbody>\n",
       "    <tr>\n",
       "      <th>cancellationdateoffloodpolicy</th>\n",
       "      <td>151741</td>\n",
       "      <td>99.465118</td>\n",
       "    </tr>\n",
       "    <tr>\n",
       "      <th>obstructiontype</th>\n",
       "      <td>145892</td>\n",
       "      <td>95.631141</td>\n",
       "    </tr>\n",
       "    <tr>\n",
       "      <th>lowestadjacentgrade</th>\n",
       "      <td>128994</td>\n",
       "      <td>84.554625</td>\n",
       "    </tr>\n",
       "    <tr>\n",
       "      <th>basefloodelevation</th>\n",
       "      <td>128919</td>\n",
       "      <td>84.505464</td>\n",
       "    </tr>\n",
       "    <tr>\n",
       "      <th>lowestfloorelevation</th>\n",
       "      <td>128736</td>\n",
       "      <td>84.385508</td>\n",
       "    </tr>\n",
       "    <tr>\n",
       "      <th>elevationcertificateindicator</th>\n",
       "      <td>109360</td>\n",
       "      <td>71.684682</td>\n",
       "    </tr>\n",
       "    <tr>\n",
       "      <th>agriculturestructureindicator</th>\n",
       "      <td>28187</td>\n",
       "      <td>18.476373</td>\n",
       "    </tr>\n",
       "    <tr>\n",
       "      <th>locationofcontents</th>\n",
       "      <td>24758</td>\n",
       "      <td>16.228688</td>\n",
       "    </tr>\n",
       "    <tr>\n",
       "      <th>latitude</th>\n",
       "      <td>13567</td>\n",
       "      <td>8.893069</td>\n",
       "    </tr>\n",
       "    <tr>\n",
       "      <th>censustract</th>\n",
       "      <td>13567</td>\n",
       "      <td>8.893069</td>\n",
       "    </tr>\n",
       "    <tr>\n",
       "      <th>longitude</th>\n",
       "      <td>13567</td>\n",
       "      <td>8.893069</td>\n",
       "    </tr>\n",
       "    <tr>\n",
       "      <th>countycode</th>\n",
       "      <td>9212</td>\n",
       "      <td>6.038399</td>\n",
       "    </tr>\n",
       "    <tr>\n",
       "      <th>deductibleamountincontentscoverage</th>\n",
       "      <td>7337</td>\n",
       "      <td>4.809350</td>\n",
       "    </tr>\n",
       "    <tr>\n",
       "      <th>deductibleamountinbuildingcoverage</th>\n",
       "      <td>2887</td>\n",
       "      <td>1.892407</td>\n",
       "    </tr>\n",
       "    <tr>\n",
       "      <th>ratemethod</th>\n",
       "      <td>1037</td>\n",
       "      <td>0.679746</td>\n",
       "    </tr>\n",
       "    <tr>\n",
       "      <th>smallbusinessindicatorbuilding</th>\n",
       "      <td>55</td>\n",
       "      <td>0.036052</td>\n",
       "    </tr>\n",
       "    <tr>\n",
       "      <th>nonprofitindicator</th>\n",
       "      <td>47</td>\n",
       "      <td>0.030808</td>\n",
       "    </tr>\n",
       "    <tr>\n",
       "      <th>houseofworshipindicator</th>\n",
       "      <td>47</td>\n",
       "      <td>0.030808</td>\n",
       "    </tr>\n",
       "    <tr>\n",
       "      <th>numberoffloorsininsuredbuilding</th>\n",
       "      <td>31</td>\n",
       "      <td>0.020320</td>\n",
       "    </tr>\n",
       "    <tr>\n",
       "      <th>floodzone</th>\n",
       "      <td>28</td>\n",
       "      <td>0.018354</td>\n",
       "    </tr>\n",
       "    <tr>\n",
       "      <th>originalconstructiondate</th>\n",
       "      <td>27</td>\n",
       "      <td>0.017698</td>\n",
       "    </tr>\n",
       "    <tr>\n",
       "      <th>postfirmconstructionindicator</th>\n",
       "      <td>27</td>\n",
       "      <td>0.017698</td>\n",
       "    </tr>\n",
       "    <tr>\n",
       "      <th>primaryresidenceindicator</th>\n",
       "      <td>23</td>\n",
       "      <td>0.015076</td>\n",
       "    </tr>\n",
       "    <tr>\n",
       "      <th>basementenclosurecrawlspacetype</th>\n",
       "      <td>6</td>\n",
       "      <td>0.003933</td>\n",
       "    </tr>\n",
       "    <tr>\n",
       "      <th>elevatedbuildingindicator</th>\n",
       "      <td>6</td>\n",
       "      <td>0.003933</td>\n",
       "    </tr>\n",
       "    <tr>\n",
       "      <th>totalbuildinginsurancecoverage</th>\n",
       "      <td>0</td>\n",
       "      <td>0.000000</td>\n",
       "    </tr>\n",
       "    <tr>\n",
       "      <th>regularemergencyprogramindicator</th>\n",
       "      <td>0</td>\n",
       "      <td>0.000000</td>\n",
       "    </tr>\n",
       "    <tr>\n",
       "      <th>policytermindicator</th>\n",
       "      <td>0</td>\n",
       "      <td>0.000000</td>\n",
       "    </tr>\n",
       "    <tr>\n",
       "      <th>reportedcity</th>\n",
       "      <td>0</td>\n",
       "      <td>0.000000</td>\n",
       "    </tr>\n",
       "    <tr>\n",
       "      <th>reportedzipcode</th>\n",
       "      <td>0</td>\n",
       "      <td>0.000000</td>\n",
       "    </tr>\n",
       "    <tr>\n",
       "      <th>propertystate</th>\n",
       "      <td>0</td>\n",
       "      <td>0.000000</td>\n",
       "    </tr>\n",
       "    <tr>\n",
       "      <th>totalcontentsinsurancecoverage</th>\n",
       "      <td>0</td>\n",
       "      <td>0.000000</td>\n",
       "    </tr>\n",
       "    <tr>\n",
       "      <th>occupancytype</th>\n",
       "      <td>0</td>\n",
       "      <td>0.000000</td>\n",
       "    </tr>\n",
       "    <tr>\n",
       "      <th>policyterminationdate</th>\n",
       "      <td>0</td>\n",
       "      <td>0.000000</td>\n",
       "    </tr>\n",
       "    <tr>\n",
       "      <th>policyeffectivedate</th>\n",
       "      <td>0</td>\n",
       "      <td>0.000000</td>\n",
       "    </tr>\n",
       "    <tr>\n",
       "      <th>policycount</th>\n",
       "      <td>0</td>\n",
       "      <td>0.000000</td>\n",
       "    </tr>\n",
       "    <tr>\n",
       "      <th>policycost</th>\n",
       "      <td>0</td>\n",
       "      <td>0.000000</td>\n",
       "    </tr>\n",
       "    <tr>\n",
       "      <th>originalnbdate</th>\n",
       "      <td>0</td>\n",
       "      <td>0.000000</td>\n",
       "    </tr>\n",
       "    <tr>\n",
       "      <th>crsdiscount</th>\n",
       "      <td>0</td>\n",
       "      <td>0.000000</td>\n",
       "    </tr>\n",
       "    <tr>\n",
       "      <th>condominiumindicator</th>\n",
       "      <td>0</td>\n",
       "      <td>0.000000</td>\n",
       "    </tr>\n",
       "    <tr>\n",
       "      <th>hfiaasurcharge</th>\n",
       "      <td>0</td>\n",
       "      <td>0.000000</td>\n",
       "    </tr>\n",
       "    <tr>\n",
       "      <th>federalpolicyfee</th>\n",
       "      <td>0</td>\n",
       "      <td>0.000000</td>\n",
       "    </tr>\n",
       "    <tr>\n",
       "      <th>elevationdifference</th>\n",
       "      <td>0</td>\n",
       "      <td>0.000000</td>\n",
       "    </tr>\n",
       "    <tr>\n",
       "      <th>construction</th>\n",
       "      <td>0</td>\n",
       "      <td>0.000000</td>\n",
       "    </tr>\n",
       "    <tr>\n",
       "      <th>totalinsurancepremiumofthepolicy</th>\n",
       "      <td>0</td>\n",
       "      <td>0.000000</td>\n",
       "    </tr>\n",
       "  </tbody>\n",
       "</table>\n",
       "</div>"
      ],
      "text/plain": [
       "                                     count          %\n",
       "cancellationdateoffloodpolicy       151741  99.465118\n",
       "obstructiontype                     145892  95.631141\n",
       "lowestadjacentgrade                 128994  84.554625\n",
       "basefloodelevation                  128919  84.505464\n",
       "lowestfloorelevation                128736  84.385508\n",
       "elevationcertificateindicator       109360  71.684682\n",
       "agriculturestructureindicator        28187  18.476373\n",
       "locationofcontents                   24758  16.228688\n",
       "latitude                             13567   8.893069\n",
       "censustract                          13567   8.893069\n",
       "longitude                            13567   8.893069\n",
       "countycode                            9212   6.038399\n",
       "deductibleamountincontentscoverage    7337   4.809350\n",
       "deductibleamountinbuildingcoverage    2887   1.892407\n",
       "ratemethod                            1037   0.679746\n",
       "smallbusinessindicatorbuilding          55   0.036052\n",
       "nonprofitindicator                      47   0.030808\n",
       "houseofworshipindicator                 47   0.030808\n",
       "numberoffloorsininsuredbuilding         31   0.020320\n",
       "floodzone                               28   0.018354\n",
       "originalconstructiondate                27   0.017698\n",
       "postfirmconstructionindicator           27   0.017698\n",
       "primaryresidenceindicator               23   0.015076\n",
       "basementenclosurecrawlspacetype          6   0.003933\n",
       "elevatedbuildingindicator                6   0.003933\n",
       "totalbuildinginsurancecoverage           0   0.000000\n",
       "regularemergencyprogramindicator         0   0.000000\n",
       "policytermindicator                      0   0.000000\n",
       "reportedcity                             0   0.000000\n",
       "reportedzipcode                          0   0.000000\n",
       "propertystate                            0   0.000000\n",
       "totalcontentsinsurancecoverage           0   0.000000\n",
       "occupancytype                            0   0.000000\n",
       "policyterminationdate                    0   0.000000\n",
       "policyeffectivedate                      0   0.000000\n",
       "policycount                              0   0.000000\n",
       "policycost                               0   0.000000\n",
       "originalnbdate                           0   0.000000\n",
       "crsdiscount                              0   0.000000\n",
       "condominiumindicator                     0   0.000000\n",
       "hfiaasurcharge                           0   0.000000\n",
       "federalpolicyfee                         0   0.000000\n",
       "elevationdifference                      0   0.000000\n",
       "construction                             0   0.000000\n",
       "totalinsurancepremiumofthepolicy         0   0.000000"
      ]
     },
     "execution_count": 9,
     "metadata": {},
     "output_type": "execute_result"
    }
   ],
   "source": [
    "missing = pd.concat([data2019.isnull().sum(), 100 * data2019.isnull().mean()], axis=1)\n",
    "missing.columns=['count', '%']\n",
    "missing.sort_values(by='count', ascending=False)"
   ]
  },
  {
   "cell_type": "markdown",
   "metadata": {},
   "source": [
    "`cancellationdateoffloodpolicy` has the largest percentage of missing values, followed by `obstructiontype`, `lowestadjacentgrade`, `basefloodelevation`, `lowestfloorelevation`, and `elevationcertificateindicator`, and all these six variables have more than 70% of missing values. \n"
   ]
  },
  {
   "cell_type": "markdown",
   "metadata": {},
   "source": [
    "**Preliminary strategy for missing values**"
   ]
  },
  {
   "cell_type": "markdown",
   "metadata": {},
   "source": [
    "**For these six variables with the most missing values:**\n",
    "\n",
    "`cancellationdateoffloodpolicy` can be deleted, because similar information can be found for the variable of `policyterminationdate`. \n",
    "\n",
    "`obstructiontype` describes the type of obstruction (if any) in the enclosure (if any). This variable doesn't seem to be very important, just based on professional judgment, so it can be deleted as well.\n",
    "\n",
    "`lowestadjacentgrade`, `basefloodelevation`, `lowestfloorelevation`, and `elevationcertificateindicator` are all somewhat related. For example, `basefloodelevation` describes the elevation at which there is a 1% chance per year of flooding from the elevation certificate. `elevationcertificateindicator` descrbies if a policy has been rated with elevation certificate. \n",
    "`lowestfloorelevation` describes a building's lowest floor which is the floor or level that is used as the point of reference when rating a building. The elevation in feet of the reference level of the building from the elevation certificate.\n",
    "`lowestadjacentgrade` describes the lowest natural grade adjacent to the insured structure prior to excavating or filling. The difference in feet of the lowest natural grade adjacent to the building from the reference level of the building. \n",
    "Overall, these variables have more than 70% of missing values, it's difficult to fill in those missing values with mean or median values, or any of other appraoches. The preliminary plan is to delete these variables. However, we can take a look later to see if they should be included."
   ]
  },
  {
   "cell_type": "markdown",
   "metadata": {},
   "source": [
    "**Other variables with missing values**\n",
    "\n",
    "Next, `agriculturestructureindicator` has 18% of missing values. This variable describes that whether a building is reported as being an agricultural structure in the policy application. This is categorical data with values of 0 and 1. Based on professional judgment, this variable  doesn't seem to be very important, so it can be deleted.\n",
    "\n",
    "`locationofcontents` indicates where within the structure the contents are located. This variable seems important so should be kept.\n",
    "\n",
    "For other variables, the number of missing values are less than 10% of total number, and given that the total number of records is more than 150,000, so those missing records can be dropped without significant impact on the size of the dataset. "
   ]
  },
  {
   "cell_type": "markdown",
   "metadata": {},
   "source": [
    "**The not-so-important variables**\n",
    "\n",
    "These variables don't seem to be important to the policy premium based on their descriptions, including `latitude`, `censustract`, `longitude`, `countycode`, `nonprofitindicator`, `houseofworshipindicator`, `regularemergencyprogramindicator`, `reportedcity`, `reportedzipcode`, `propertystate`. They can be deleted."
   ]
  },
  {
   "cell_type": "markdown",
   "metadata": {},
   "source": [
    "### 1.5.3 Categorical Features<a id='1.5.3_Categorical_Features'></a>"
   ]
  },
  {
   "cell_type": "markdown",
   "metadata": {},
   "source": [
    "Check how the categorical data look like"
   ]
  },
  {
   "cell_type": "code",
   "execution_count": 10,
   "metadata": {},
   "outputs": [
    {
     "data": {
      "text/html": [
       "<div>\n",
       "<style scoped>\n",
       "    .dataframe tbody tr th:only-of-type {\n",
       "        vertical-align: middle;\n",
       "    }\n",
       "\n",
       "    .dataframe tbody tr th {\n",
       "        vertical-align: top;\n",
       "    }\n",
       "\n",
       "    .dataframe thead th {\n",
       "        text-align: right;\n",
       "    }\n",
       "</style>\n",
       "<table border=\"1\" class=\"dataframe\">\n",
       "  <thead>\n",
       "    <tr style=\"text-align: right;\">\n",
       "      <th></th>\n",
       "      <th>agriculturestructureindicator</th>\n",
       "      <th>condominiumindicator</th>\n",
       "      <th>construction</th>\n",
       "      <th>deductibleamountinbuildingcoverage</th>\n",
       "      <th>deductibleamountincontentscoverage</th>\n",
       "      <th>elevatedbuildingindicator</th>\n",
       "      <th>elevationcertificateindicator</th>\n",
       "      <th>floodzone</th>\n",
       "      <th>houseofworshipindicator</th>\n",
       "      <th>locationofcontents</th>\n",
       "      <th>nonprofitindicator</th>\n",
       "      <th>postfirmconstructionindicator</th>\n",
       "      <th>primaryresidenceindicator</th>\n",
       "      <th>propertystate</th>\n",
       "      <th>ratemethod</th>\n",
       "      <th>regularemergencyprogramindicator</th>\n",
       "      <th>reportedcity</th>\n",
       "      <th>smallbusinessindicatorbuilding</th>\n",
       "    </tr>\n",
       "  </thead>\n",
       "  <tbody>\n",
       "    <tr>\n",
       "      <th>0</th>\n",
       "      <td>N</td>\n",
       "      <td>N</td>\n",
       "      <td>N</td>\n",
       "      <td>F</td>\n",
       "      <td>F</td>\n",
       "      <td>N</td>\n",
       "      <td>NaN</td>\n",
       "      <td>X</td>\n",
       "      <td>N</td>\n",
       "      <td>Lowest floor only above ground level (No basem...</td>\n",
       "      <td>N</td>\n",
       "      <td>Y</td>\n",
       "      <td>N</td>\n",
       "      <td>TX</td>\n",
       "      <td>7</td>\n",
       "      <td>R</td>\n",
       "      <td>HOUSTON</td>\n",
       "      <td>N</td>\n",
       "    </tr>\n",
       "    <tr>\n",
       "      <th>1</th>\n",
       "      <td>N</td>\n",
       "      <td>N</td>\n",
       "      <td>N</td>\n",
       "      <td>F</td>\n",
       "      <td>F</td>\n",
       "      <td>N</td>\n",
       "      <td>NaN</td>\n",
       "      <td>X</td>\n",
       "      <td>N</td>\n",
       "      <td>Lowest floor only above ground level (No basem...</td>\n",
       "      <td>N</td>\n",
       "      <td>N</td>\n",
       "      <td>Y</td>\n",
       "      <td>TX</td>\n",
       "      <td>7</td>\n",
       "      <td>R</td>\n",
       "      <td>HOUSTON</td>\n",
       "      <td>N</td>\n",
       "    </tr>\n",
       "    <tr>\n",
       "      <th>2</th>\n",
       "      <td>N</td>\n",
       "      <td>N</td>\n",
       "      <td>N</td>\n",
       "      <td>F</td>\n",
       "      <td>F</td>\n",
       "      <td>N</td>\n",
       "      <td>NaN</td>\n",
       "      <td>X</td>\n",
       "      <td>N</td>\n",
       "      <td>Lowest floor only above ground level (No basem...</td>\n",
       "      <td>N</td>\n",
       "      <td>Y</td>\n",
       "      <td>Y</td>\n",
       "      <td>TX</td>\n",
       "      <td>7</td>\n",
       "      <td>R</td>\n",
       "      <td>HOUSTON</td>\n",
       "      <td>N</td>\n",
       "    </tr>\n",
       "    <tr>\n",
       "      <th>3</th>\n",
       "      <td>N</td>\n",
       "      <td>N</td>\n",
       "      <td>N</td>\n",
       "      <td>F</td>\n",
       "      <td>F</td>\n",
       "      <td>N</td>\n",
       "      <td>NaN</td>\n",
       "      <td>X</td>\n",
       "      <td>N</td>\n",
       "      <td>Lowest floor above ground level and higher flo...</td>\n",
       "      <td>N</td>\n",
       "      <td>Y</td>\n",
       "      <td>Y</td>\n",
       "      <td>TX</td>\n",
       "      <td>7</td>\n",
       "      <td>R</td>\n",
       "      <td>HOUSTON</td>\n",
       "      <td>N</td>\n",
       "    </tr>\n",
       "    <tr>\n",
       "      <th>4</th>\n",
       "      <td>N</td>\n",
       "      <td>N</td>\n",
       "      <td>N</td>\n",
       "      <td>F</td>\n",
       "      <td>F</td>\n",
       "      <td>N</td>\n",
       "      <td>NaN</td>\n",
       "      <td>X</td>\n",
       "      <td>N</td>\n",
       "      <td>Lowest floor only above ground level (No basem...</td>\n",
       "      <td>N</td>\n",
       "      <td>Y</td>\n",
       "      <td>Y</td>\n",
       "      <td>TX</td>\n",
       "      <td>7</td>\n",
       "      <td>R</td>\n",
       "      <td>HOUSTON</td>\n",
       "      <td>N</td>\n",
       "    </tr>\n",
       "    <tr>\n",
       "      <th>...</th>\n",
       "      <td>...</td>\n",
       "      <td>...</td>\n",
       "      <td>...</td>\n",
       "      <td>...</td>\n",
       "      <td>...</td>\n",
       "      <td>...</td>\n",
       "      <td>...</td>\n",
       "      <td>...</td>\n",
       "      <td>...</td>\n",
       "      <td>...</td>\n",
       "      <td>...</td>\n",
       "      <td>...</td>\n",
       "      <td>...</td>\n",
       "      <td>...</td>\n",
       "      <td>...</td>\n",
       "      <td>...</td>\n",
       "      <td>...</td>\n",
       "      <td>...</td>\n",
       "    </tr>\n",
       "    <tr>\n",
       "      <th>155013</th>\n",
       "      <td>N</td>\n",
       "      <td>N</td>\n",
       "      <td>N</td>\n",
       "      <td>F</td>\n",
       "      <td>F</td>\n",
       "      <td>N</td>\n",
       "      <td>NaN</td>\n",
       "      <td>X</td>\n",
       "      <td>N</td>\n",
       "      <td>Lowest floor only above ground level (No basem...</td>\n",
       "      <td>N</td>\n",
       "      <td>N</td>\n",
       "      <td>Y</td>\n",
       "      <td>TX</td>\n",
       "      <td>7</td>\n",
       "      <td>R</td>\n",
       "      <td>HOUSTON</td>\n",
       "      <td>N</td>\n",
       "    </tr>\n",
       "    <tr>\n",
       "      <th>155014</th>\n",
       "      <td>N</td>\n",
       "      <td>N</td>\n",
       "      <td>N</td>\n",
       "      <td>5</td>\n",
       "      <td>NaN</td>\n",
       "      <td>N</td>\n",
       "      <td>NaN</td>\n",
       "      <td>AE</td>\n",
       "      <td>N</td>\n",
       "      <td>NaN</td>\n",
       "      <td>N</td>\n",
       "      <td>N</td>\n",
       "      <td>N</td>\n",
       "      <td>TX</td>\n",
       "      <td>B</td>\n",
       "      <td>R</td>\n",
       "      <td>HOUSTON</td>\n",
       "      <td>N</td>\n",
       "    </tr>\n",
       "    <tr>\n",
       "      <th>155015</th>\n",
       "      <td>N</td>\n",
       "      <td>N</td>\n",
       "      <td>N</td>\n",
       "      <td>F</td>\n",
       "      <td>F</td>\n",
       "      <td>N</td>\n",
       "      <td>NaN</td>\n",
       "      <td>X</td>\n",
       "      <td>N</td>\n",
       "      <td>Lowest floor only above ground level (No basem...</td>\n",
       "      <td>N</td>\n",
       "      <td>Y</td>\n",
       "      <td>Y</td>\n",
       "      <td>TX</td>\n",
       "      <td>7</td>\n",
       "      <td>R</td>\n",
       "      <td>HOUSTON</td>\n",
       "      <td>N</td>\n",
       "    </tr>\n",
       "    <tr>\n",
       "      <th>155016</th>\n",
       "      <td>N</td>\n",
       "      <td>N</td>\n",
       "      <td>N</td>\n",
       "      <td>2</td>\n",
       "      <td>2</td>\n",
       "      <td>N</td>\n",
       "      <td>1</td>\n",
       "      <td>AE</td>\n",
       "      <td>N</td>\n",
       "      <td>Lowest floor only above ground level (No basem...</td>\n",
       "      <td>N</td>\n",
       "      <td>N</td>\n",
       "      <td>N</td>\n",
       "      <td>TX</td>\n",
       "      <td>1</td>\n",
       "      <td>R</td>\n",
       "      <td>HOUSTON</td>\n",
       "      <td>N</td>\n",
       "    </tr>\n",
       "    <tr>\n",
       "      <th>155017</th>\n",
       "      <td>N</td>\n",
       "      <td>N</td>\n",
       "      <td>N</td>\n",
       "      <td>F</td>\n",
       "      <td>F</td>\n",
       "      <td>N</td>\n",
       "      <td>1</td>\n",
       "      <td>X</td>\n",
       "      <td>N</td>\n",
       "      <td>Lowest floor above ground level and higher flo...</td>\n",
       "      <td>N</td>\n",
       "      <td>Y</td>\n",
       "      <td>Y</td>\n",
       "      <td>TX</td>\n",
       "      <td>7</td>\n",
       "      <td>R</td>\n",
       "      <td>HOUSTON</td>\n",
       "      <td>N</td>\n",
       "    </tr>\n",
       "  </tbody>\n",
       "</table>\n",
       "<p>152557 rows × 18 columns</p>\n",
       "</div>"
      ],
      "text/plain": [
       "       agriculturestructureindicator condominiumindicator construction  \\\n",
       "0                                  N                    N            N   \n",
       "1                                  N                    N            N   \n",
       "2                                  N                    N            N   \n",
       "3                                  N                    N            N   \n",
       "4                                  N                    N            N   \n",
       "...                              ...                  ...          ...   \n",
       "155013                             N                    N            N   \n",
       "155014                             N                    N            N   \n",
       "155015                             N                    N            N   \n",
       "155016                             N                    N            N   \n",
       "155017                             N                    N            N   \n",
       "\n",
       "       deductibleamountinbuildingcoverage deductibleamountincontentscoverage  \\\n",
       "0                                       F                                  F   \n",
       "1                                       F                                  F   \n",
       "2                                       F                                  F   \n",
       "3                                       F                                  F   \n",
       "4                                       F                                  F   \n",
       "...                                   ...                                ...   \n",
       "155013                                  F                                  F   \n",
       "155014                                  5                                NaN   \n",
       "155015                                  F                                  F   \n",
       "155016                                  2                                  2   \n",
       "155017                                  F                                  F   \n",
       "\n",
       "       elevatedbuildingindicator elevationcertificateindicator floodzone  \\\n",
       "0                              N                           NaN         X   \n",
       "1                              N                           NaN         X   \n",
       "2                              N                           NaN         X   \n",
       "3                              N                           NaN         X   \n",
       "4                              N                           NaN         X   \n",
       "...                          ...                           ...       ...   \n",
       "155013                         N                           NaN         X   \n",
       "155014                         N                           NaN        AE   \n",
       "155015                         N                           NaN         X   \n",
       "155016                         N                             1        AE   \n",
       "155017                         N                             1         X   \n",
       "\n",
       "       houseofworshipindicator  \\\n",
       "0                            N   \n",
       "1                            N   \n",
       "2                            N   \n",
       "3                            N   \n",
       "4                            N   \n",
       "...                        ...   \n",
       "155013                       N   \n",
       "155014                       N   \n",
       "155015                       N   \n",
       "155016                       N   \n",
       "155017                       N   \n",
       "\n",
       "                                       locationofcontents nonprofitindicator  \\\n",
       "0       Lowest floor only above ground level (No basem...                  N   \n",
       "1       Lowest floor only above ground level (No basem...                  N   \n",
       "2       Lowest floor only above ground level (No basem...                  N   \n",
       "3       Lowest floor above ground level and higher flo...                  N   \n",
       "4       Lowest floor only above ground level (No basem...                  N   \n",
       "...                                                   ...                ...   \n",
       "155013  Lowest floor only above ground level (No basem...                  N   \n",
       "155014                                                NaN                  N   \n",
       "155015  Lowest floor only above ground level (No basem...                  N   \n",
       "155016  Lowest floor only above ground level (No basem...                  N   \n",
       "155017  Lowest floor above ground level and higher flo...                  N   \n",
       "\n",
       "       postfirmconstructionindicator primaryresidenceindicator propertystate  \\\n",
       "0                                  Y                         N            TX   \n",
       "1                                  N                         Y            TX   \n",
       "2                                  Y                         Y            TX   \n",
       "3                                  Y                         Y            TX   \n",
       "4                                  Y                         Y            TX   \n",
       "...                              ...                       ...           ...   \n",
       "155013                             N                         Y            TX   \n",
       "155014                             N                         N            TX   \n",
       "155015                             Y                         Y            TX   \n",
       "155016                             N                         N            TX   \n",
       "155017                             Y                         Y            TX   \n",
       "\n",
       "       ratemethod regularemergencyprogramindicator reportedcity  \\\n",
       "0               7                                R      HOUSTON   \n",
       "1               7                                R      HOUSTON   \n",
       "2               7                                R      HOUSTON   \n",
       "3               7                                R      HOUSTON   \n",
       "4               7                                R      HOUSTON   \n",
       "...           ...                              ...          ...   \n",
       "155013          7                                R      HOUSTON   \n",
       "155014          B                                R      HOUSTON   \n",
       "155015          7                                R      HOUSTON   \n",
       "155016          1                                R      HOUSTON   \n",
       "155017          7                                R      HOUSTON   \n",
       "\n",
       "       smallbusinessindicatorbuilding  \n",
       "0                                   N  \n",
       "1                                   N  \n",
       "2                                   N  \n",
       "3                                   N  \n",
       "4                                   N  \n",
       "...                               ...  \n",
       "155013                              N  \n",
       "155014                              N  \n",
       "155015                              N  \n",
       "155016                              N  \n",
       "155017                              N  \n",
       "\n",
       "[152557 rows x 18 columns]"
      ]
     },
     "execution_count": 10,
     "metadata": {},
     "output_type": "execute_result"
    }
   ],
   "source": [
    "data2019.select_dtypes(include = 'object')"
   ]
  },
  {
   "cell_type": "markdown",
   "metadata": {},
   "source": [
    "**Let's check how many unique values for each variable**"
   ]
  },
  {
   "cell_type": "code",
   "execution_count": 11,
   "metadata": {},
   "outputs": [
    {
     "data": {
      "text/plain": [
       "agriculturestructureindicator          2\n",
       "condominiumindicator                   5\n",
       "construction                           2\n",
       "deductibleamountinbuildingcoverage    13\n",
       "deductibleamountincontentscoverage    13\n",
       "elevatedbuildingindicator              2\n",
       "elevationcertificateindicator          9\n",
       "floodzone                             22\n",
       "houseofworshipindicator                2\n",
       "locationofcontents                     5\n",
       "nonprofitindicator                     2\n",
       "postfirmconstructionindicator          2\n",
       "primaryresidenceindicator              2\n",
       "propertystate                          1\n",
       "ratemethod                            13\n",
       "regularemergencyprogramindicator       2\n",
       "reportedcity                          11\n",
       "smallbusinessindicatorbuilding         2\n",
       "dtype: int64"
      ]
     },
     "execution_count": 11,
     "metadata": {},
     "output_type": "execute_result"
    }
   ],
   "source": [
    "df_cat = data2019.select_dtypes(include = 'object')\n",
    "df_cat.nunique()"
   ]
  },
  {
   "cell_type": "markdown",
   "metadata": {},
   "source": [
    "These 9 variables have binary values (Y or N): `agriculturestructureindicator`, `construction`, `elevatedbuildingindicator`, `houseofworshipindicator`, `nonprofitindicator`, `postfirmconstructionindicator`, `primaryresidenceindicator`, `regularemergencyprogramindicator`, and `smallbusinessindicatorbuilding`. \n",
    "\n",
    "As explained earlier, some of these variables can be deleted because they seem not to be very important to the premium calculation, including `agriculturestructureindicator`, `houseofworshipindicator`, `nonprofitindicator`, `postfirmconstructionindicator`, `regularemergencyprogramindicator`.\n",
    "\n",
    "Other variables have more than 2 unique values. For example, `floodzone` is a very important feature which has 22 unique values. We may want to combine some values to decrease the number of unique values. "
   ]
  },
  {
   "cell_type": "markdown",
   "metadata": {},
   "source": [
    "**Let's check the percentage of missing values for each variable**"
   ]
  },
  {
   "cell_type": "code",
   "execution_count": 12,
   "metadata": {},
   "outputs": [
    {
     "data": {
      "text/plain": [
       "agriculturestructureindicator         18.476373\n",
       "condominiumindicator                   0.000000\n",
       "construction                           0.000000\n",
       "deductibleamountinbuildingcoverage     1.892407\n",
       "deductibleamountincontentscoverage     4.809350\n",
       "elevatedbuildingindicator              0.003933\n",
       "elevationcertificateindicator         71.684682\n",
       "floodzone                              0.018354\n",
       "houseofworshipindicator                0.030808\n",
       "locationofcontents                    16.228688\n",
       "nonprofitindicator                     0.030808\n",
       "postfirmconstructionindicator          0.017698\n",
       "primaryresidenceindicator              0.015076\n",
       "propertystate                          0.000000\n",
       "ratemethod                             0.679746\n",
       "regularemergencyprogramindicator       0.000000\n",
       "reportedcity                           0.000000\n",
       "smallbusinessindicatorbuilding         0.036052\n",
       "dtype: float64"
      ]
     },
     "execution_count": 12,
     "metadata": {},
     "output_type": "execute_result"
    }
   ],
   "source": [
    "df_cat.isnull().mean()*100"
   ]
  },
  {
   "cell_type": "markdown",
   "metadata": {},
   "source": [
    "`elevationcertificateindicator` has more than 70% of missing values. Next, `agriculturestructureindicator` can also be removed since it doesn't seem to be an important variable. However, `locationofcontents` is important, so it needs to be kept. Other variables have less than 1% of missing values, so we can just use dropna method to delete the records. "
   ]
  },
  {
   "cell_type": "markdown",
   "metadata": {},
   "source": [
    "**Let's conduct preliminary data processing to explore the premium data for some categorical features**"
   ]
  },
  {
   "cell_type": "markdown",
   "metadata": {},
   "source": [
    "First, let's check how `elevationcertificateindicator` looks like."
   ]
  },
  {
   "cell_type": "code",
   "execution_count": 13,
   "metadata": {},
   "outputs": [
    {
     "data": {
      "text/plain": [
       "elevationcertificateindicator\n",
       "1     376.0\n",
       "2    1055.0\n",
       "3     568.0\n",
       "4     917.0\n",
       "A     421.5\n",
       "B     511.5\n",
       "C     359.5\n",
       "D     369.0\n",
       "E     514.0\n",
       "Name: totalinsurancepremiumofthepolicy, dtype: float64"
      ]
     },
     "execution_count": 13,
     "metadata": {},
     "output_type": "execute_result"
    }
   ],
   "source": [
    "elevcert_median = data2019.groupby('elevationcertificateindicator')['totalinsurancepremiumofthepolicy'].median()\n",
    "elevcert_median"
   ]
  },
  {
   "cell_type": "code",
   "execution_count": 14,
   "metadata": {},
   "outputs": [
    {
     "data": {
      "text/plain": [
       "Text(0, 0.5, 'Elevation Certificate Indicator')"
      ]
     },
     "execution_count": 14,
     "metadata": {},
     "output_type": "execute_result"
    },
    {
     "data": {
      "image/png": "[encoded data removed]",
      "text/plain": [
       "<Figure size 720x720 with 1 Axes>"
      ]
     },
     "metadata": {},
     "output_type": "display_data"
    }
   ],
   "source": [
    "(elevcert_median.reindex(index=elevcert_median.sort_values(ascending=False).index).plot(kind='barh', figsize=(10, 10)))\n",
    "plt.xlabel('Premium Price ($)', fontsize=15)\n",
    "plt.ylabel('Elevation Certificate Indicator', fontsize=15)"
   ]
  },
  {
   "cell_type": "markdown",
   "metadata": {},
   "source": [
    "**`floodzone` is considered to be a very important feature, so let's explore the median premium data for each flood zone.**"
   ]
  },
  {
   "cell_type": "code",
   "execution_count": 15,
   "metadata": {},
   "outputs": [
    {
     "data": {
      "text/plain": [
       "floodzone\n",
       "A      1175.0\n",
       "A01     456.5\n",
       "A03     589.0\n",
       "A04     426.5\n",
       "A05     322.0\n",
       "A06     668.0\n",
       "A07    1194.0\n",
       "A08     499.0\n",
       "A10     555.0\n",
       "A14     701.0\n",
       "A15     549.0\n",
       "A16     670.0\n",
       "A17     460.0\n",
       "AE      733.0\n",
       "AH     1018.0\n",
       "AHB     253.0\n",
       "AO     1029.5\n",
       "AOB     292.0\n",
       "B       376.0\n",
       "C      1240.0\n",
       "VE     1118.5\n",
       "X       376.0\n",
       "Name: totalinsurancepremiumofthepolicy, dtype: float64"
      ]
     },
     "execution_count": 15,
     "metadata": {},
     "output_type": "execute_result"
    }
   ],
   "source": [
    "floodzone_median = data2019.groupby('floodzone')['totalinsurancepremiumofthepolicy'].median()\n",
    "floodzone_median"
   ]
  },
  {
   "cell_type": "code",
   "execution_count": 16,
   "metadata": {},
   "outputs": [
    {
     "data": {
      "text/plain": [
       "Text(0, 0.5, 'Flood Zone')"
      ]
     },
     "execution_count": 16,
     "metadata": {},
     "output_type": "execute_result"
    },
    {
     "data": {
      "image/png": "[encoded data removed]",
      "text/plain": [
       "<Figure size 720x720 with 1 Axes>"
      ]
     },
     "metadata": {},
     "output_type": "display_data"
    }
   ],
   "source": [
    "(floodzone_median.reindex(index=floodzone_median.sort_values(ascending=False).index).plot(kind='barh', figsize=(10, 10)))\n",
    "plt.xlabel('Premium Price ($)', fontsize=15)\n",
    "plt.ylabel('Flood Zone', fontsize=15)"
   ]
  },
  {
   "cell_type": "markdown",
   "metadata": {},
   "source": [
    "**`locationofcontents` is also considered to be an important feature, so let's explore the median premium data for location of contents.**"
   ]
  },
  {
   "cell_type": "code",
   "execution_count": 17,
   "metadata": {},
   "outputs": [
    {
     "data": {
      "text/plain": [
       "locationofcontents\n",
       "Above ground level more than one full floor                                                                 374.0\n",
       "Basement/Enclosure/Crawlspace/Subgrade Crawlspace and above                                                 419.0\n",
       "Lowest floor above ground level and higher floors (No basement/enclosure/crawlspace/subgrade crawlspace)    376.0\n",
       "Lowest floor only above ground level (No basement/enclosure/crawlspace/subgrade crawlspace)                 376.0\n",
       "Manufactured (mobile) home or travel trailer on foundation                                                  245.0\n",
       "Name: totalinsurancepremiumofthepolicy, dtype: float64"
      ]
     },
     "execution_count": 17,
     "metadata": {},
     "output_type": "execute_result"
    }
   ],
   "source": [
    "locationofcontents_median = data2019.groupby('locationofcontents')['totalinsurancepremiumofthepolicy'].median()\n",
    "locationofcontents_median"
   ]
  },
  {
   "cell_type": "markdown",
   "metadata": {},
   "source": [
    "The median premium price is from 245 to 419 for the 5 different `locationofcontents`."
   ]
  },
  {
   "cell_type": "markdown",
   "metadata": {},
   "source": [
    "**Next, `ratemethod` indicates policy rating method, so let's explore the median premium data for rating method.**"
   ]
  },
  {
   "cell_type": "code",
   "execution_count": 18,
   "metadata": {},
   "outputs": [
    {
     "data": {
      "text/plain": [
       "ratemethod\n",
       "1     917.0\n",
       "2     658.0\n",
       "3     596.0\n",
       "5    5974.5\n",
       "6     454.0\n",
       "7     376.0\n",
       "8     672.5\n",
       "B     665.0\n",
       "E     568.0\n",
       "F     370.0\n",
       "G     600.0\n",
       "S     550.0\n",
       "W    2853.0\n",
       "Name: totalinsurancepremiumofthepolicy, dtype: float64"
      ]
     },
     "execution_count": 18,
     "metadata": {},
     "output_type": "execute_result"
    }
   ],
   "source": [
    "ratemethod_median = data2019.groupby('ratemethod')['totalinsurancepremiumofthepolicy'].median()\n",
    "ratemethod_median"
   ]
  },
  {
   "cell_type": "code",
   "execution_count": 19,
   "metadata": {},
   "outputs": [
    {
     "data": {
      "text/plain": [
       "Text(0, 0.5, 'Rate Method')"
      ]
     },
     "execution_count": 19,
     "metadata": {},
     "output_type": "execute_result"
    },
    {
     "data": {
      "image/png": "[encoded data removed]",
      "text/plain": [
       "<Figure size 720x720 with 1 Axes>"
      ]
     },
     "metadata": {},
     "output_type": "display_data"
    }
   ],
   "source": [
    "(ratemethod_median.reindex(index=ratemethod_median.sort_values(ascending=False).index).plot(kind='barh', figsize=(10, 10)))\n",
    "plt.xlabel('Premium Price ($)', fontsize=15)\n",
    "plt.ylabel('Rate Method', fontsize=15)"
   ]
  },
  {
   "cell_type": "markdown",
   "metadata": {},
   "source": [
    "**Next, `deductibleamountinbuildingcoverage` indicates the total deductible amount for buildings that can be applied against the loss, so let's explore the median premium data for `deductibleamountinbuildingcoverage`.**"
   ]
  },
  {
   "cell_type": "code",
   "execution_count": 20,
   "metadata": {},
   "outputs": [
    {
     "data": {
      "text/plain": [
       "deductibleamountinbuildingcoverage\n",
       "0     215.0\n",
       "1     274.0\n",
       "2    1133.0\n",
       "3     989.5\n",
       "4    1023.0\n",
       "5     942.0\n",
       "A     947.0\n",
       "B    1764.0\n",
       "C    1829.0\n",
       "D    1242.0\n",
       "E    1563.5\n",
       "F     376.0\n",
       "G     777.0\n",
       "Name: totalinsurancepremiumofthepolicy, dtype: float64"
      ]
     },
     "execution_count": 20,
     "metadata": {},
     "output_type": "execute_result"
    }
   ],
   "source": [
    "deduct_building_median = data2019.groupby('deductibleamountinbuildingcoverage')['totalinsurancepremiumofthepolicy'].median()\n",
    "deduct_building_median"
   ]
  },
  {
   "cell_type": "code",
   "execution_count": 21,
   "metadata": {},
   "outputs": [
    {
     "data": {
      "text/plain": [
       "Text(0, 0.5, 'Deductible for Building Coverage')"
      ]
     },
     "execution_count": 21,
     "metadata": {},
     "output_type": "execute_result"
    },
    {
     "data": {
      "image/png": "[encoded data removed]",
      "text/plain": [
       "<Figure size 720x720 with 1 Axes>"
      ]
     },
     "metadata": {},
     "output_type": "display_data"
    }
   ],
   "source": [
    "(deduct_building_median.reindex(index=deduct_building_median.sort_values(ascending=False).index).plot(kind='barh', figsize=(10, 10)))\n",
    "plt.xlabel('Premium Price ($)', fontsize=15)\n",
    "plt.ylabel('Deductible for Building Coverage', fontsize=15)"
   ]
  },
  {
   "cell_type": "markdown",
   "metadata": {},
   "source": [
    "**Last, `deductibleamountincontentscoverage` indicates the total deductible amount for contents in both main and apartment structures that can be applied against the loss, so let's explore the median premium data for `deductibleamountincontentscoverage`.**"
   ]
  },
  {
   "cell_type": "code",
   "execution_count": 22,
   "metadata": {},
   "outputs": [
    {
     "data": {
      "text/plain": [
       "deductibleamountincontentscoverage\n",
       "0     727.0\n",
       "1     251.0\n",
       "2    1213.0\n",
       "3    1044.0\n",
       "4    1058.0\n",
       "5    1063.5\n",
       "A     978.0\n",
       "B    3033.5\n",
       "C    2038.5\n",
       "D    1762.0\n",
       "E    2000.0\n",
       "F     376.0\n",
       "G     761.0\n",
       "Name: totalinsurancepremiumofthepolicy, dtype: float64"
      ]
     },
     "execution_count": 22,
     "metadata": {},
     "output_type": "execute_result"
    }
   ],
   "source": [
    "deduct_content_median = data2019.groupby('deductibleamountincontentscoverage')['totalinsurancepremiumofthepolicy'].median()\n",
    "deduct_content_median"
   ]
  },
  {
   "cell_type": "code",
   "execution_count": 23,
   "metadata": {},
   "outputs": [
    {
     "data": {
      "text/plain": [
       "Text(0, 0.5, 'Deductible for Content Coverage')"
      ]
     },
     "execution_count": 23,
     "metadata": {},
     "output_type": "execute_result"
    },
    {
     "data": {
      "image/png": "[encoded data removed]",
      "text/plain": [
       "<Figure size 720x720 with 1 Axes>"
      ]
     },
     "metadata": {},
     "output_type": "display_data"
    }
   ],
   "source": [
    "(deduct_content_median.reindex(index=deduct_content_median.sort_values(ascending=False).index).plot(kind='barh', figsize=(10, 10)))\n",
    "plt.xlabel('Premium Price ($)', fontsize=15)\n",
    "plt.ylabel('Deductible for Content Coverage', fontsize=15)"
   ]
  },
  {
   "cell_type": "markdown",
   "metadata": {},
   "source": [
    "### 1.5.4 Numeric Features<a id='1.5.4_Numeric_Features'></a>"
   ]
  },
  {
   "cell_type": "markdown",
   "metadata": {},
   "source": [
    "#### 1.5.4.1 Numeric Data Summary<a id='1.5.4.1_Numeric_Data_Summary'></a>"
   ]
  },
  {
   "cell_type": "markdown",
   "metadata": {},
   "source": [
    "Check the statistics of the numerical features"
   ]
  },
  {
   "cell_type": "code",
   "execution_count": 24,
   "metadata": {},
   "outputs": [
    {
     "data": {
      "text/html": [
       "<div>\n",
       "<style scoped>\n",
       "    .dataframe tbody tr th:only-of-type {\n",
       "        vertical-align: middle;\n",
       "    }\n",
       "\n",
       "    .dataframe tbody tr th {\n",
       "        vertical-align: top;\n",
       "    }\n",
       "\n",
       "    .dataframe thead th {\n",
       "        text-align: right;\n",
       "    }\n",
       "</style>\n",
       "<table border=\"1\" class=\"dataframe\">\n",
       "  <thead>\n",
       "    <tr style=\"text-align: right;\">\n",
       "      <th></th>\n",
       "      <th>count</th>\n",
       "      <th>mean</th>\n",
       "      <th>std</th>\n",
       "      <th>min</th>\n",
       "      <th>25%</th>\n",
       "      <th>50%</th>\n",
       "      <th>75%</th>\n",
       "      <th>max</th>\n",
       "    </tr>\n",
       "  </thead>\n",
       "  <tbody>\n",
       "    <tr>\n",
       "      <th>basefloodelevation</th>\n",
       "      <td>23638.0</td>\n",
       "      <td>6.258129e+01</td>\n",
       "      <td>7.039355e+01</td>\n",
       "      <td>-5.500000e+01</td>\n",
       "      <td>4.940000e+01</td>\n",
       "      <td>5.900000e+01</td>\n",
       "      <td>7.800000e+01</td>\n",
       "      <td>9.997000e+03</td>\n",
       "    </tr>\n",
       "    <tr>\n",
       "      <th>basementenclosurecrawlspacetype</th>\n",
       "      <td>152551.0</td>\n",
       "      <td>5.901633e-02</td>\n",
       "      <td>3.949507e-01</td>\n",
       "      <td>0.000000e+00</td>\n",
       "      <td>0.000000e+00</td>\n",
       "      <td>0.000000e+00</td>\n",
       "      <td>0.000000e+00</td>\n",
       "      <td>4.000000e+00</td>\n",
       "    </tr>\n",
       "    <tr>\n",
       "      <th>censustract</th>\n",
       "      <td>138990.0</td>\n",
       "      <td>4.820111e+10</td>\n",
       "      <td>3.812465e+06</td>\n",
       "      <td>4.803966e+10</td>\n",
       "      <td>4.820134e+10</td>\n",
       "      <td>4.820143e+10</td>\n",
       "      <td>4.820152e+10</td>\n",
       "      <td>4.837321e+10</td>\n",
       "    </tr>\n",
       "    <tr>\n",
       "      <th>countycode</th>\n",
       "      <td>143345.0</td>\n",
       "      <td>4.820069e+04</td>\n",
       "      <td>3.785519e+00</td>\n",
       "      <td>4.803900e+04</td>\n",
       "      <td>4.820100e+04</td>\n",
       "      <td>4.820100e+04</td>\n",
       "      <td>4.820100e+04</td>\n",
       "      <td>4.837300e+04</td>\n",
       "    </tr>\n",
       "    <tr>\n",
       "      <th>crsdiscount</th>\n",
       "      <td>152557.0</td>\n",
       "      <td>4.777395e-02</td>\n",
       "      <td>9.298668e-02</td>\n",
       "      <td>0.000000e+00</td>\n",
       "      <td>0.000000e+00</td>\n",
       "      <td>0.000000e+00</td>\n",
       "      <td>0.000000e+00</td>\n",
       "      <td>2.500000e-01</td>\n",
       "    </tr>\n",
       "    <tr>\n",
       "      <th>elevationdifference</th>\n",
       "      <td>152557.0</td>\n",
       "      <td>8.433434e+02</td>\n",
       "      <td>3.638272e+02</td>\n",
       "      <td>-9.986000e+03</td>\n",
       "      <td>9.990000e+02</td>\n",
       "      <td>9.990000e+02</td>\n",
       "      <td>9.990000e+02</td>\n",
       "      <td>9.989000e+03</td>\n",
       "    </tr>\n",
       "    <tr>\n",
       "      <th>federalpolicyfee</th>\n",
       "      <td>152557.0</td>\n",
       "      <td>3.176452e+01</td>\n",
       "      <td>4.649017e+01</td>\n",
       "      <td>-1.600000e+03</td>\n",
       "      <td>2.500000e+01</td>\n",
       "      <td>2.500000e+01</td>\n",
       "      <td>2.500000e+01</td>\n",
       "      <td>2.000000e+03</td>\n",
       "    </tr>\n",
       "    <tr>\n",
       "      <th>hfiaasurcharge</th>\n",
       "      <td>152557.0</td>\n",
       "      <td>5.837626e+01</td>\n",
       "      <td>8.122970e+01</td>\n",
       "      <td>-2.250000e+02</td>\n",
       "      <td>2.500000e+01</td>\n",
       "      <td>2.500000e+01</td>\n",
       "      <td>2.500000e+01</td>\n",
       "      <td>2.500000e+02</td>\n",
       "    </tr>\n",
       "    <tr>\n",
       "      <th>latitude</th>\n",
       "      <td>138990.0</td>\n",
       "      <td>2.977091e+01</td>\n",
       "      <td>1.109165e-01</td>\n",
       "      <td>2.950000e+01</td>\n",
       "      <td>2.970000e+01</td>\n",
       "      <td>2.980000e+01</td>\n",
       "      <td>2.980000e+01</td>\n",
       "      <td>3.080000e+01</td>\n",
       "    </tr>\n",
       "    <tr>\n",
       "      <th>longitude</th>\n",
       "      <td>138990.0</td>\n",
       "      <td>-9.544398e+01</td>\n",
       "      <td>1.558144e-01</td>\n",
       "      <td>-9.590000e+01</td>\n",
       "      <td>-9.560000e+01</td>\n",
       "      <td>-9.550000e+01</td>\n",
       "      <td>-9.540000e+01</td>\n",
       "      <td>-9.510000e+01</td>\n",
       "    </tr>\n",
       "    <tr>\n",
       "      <th>lowestadjacentgrade</th>\n",
       "      <td>23563.0</td>\n",
       "      <td>6.337281e+01</td>\n",
       "      <td>1.469304e+02</td>\n",
       "      <td>-6.600000e+00</td>\n",
       "      <td>4.880000e+01</td>\n",
       "      <td>5.860000e+01</td>\n",
       "      <td>7.770000e+01</td>\n",
       "      <td>9.991000e+03</td>\n",
       "    </tr>\n",
       "    <tr>\n",
       "      <th>lowestfloorelevation</th>\n",
       "      <td>23821.0</td>\n",
       "      <td>1.283621e+02</td>\n",
       "      <td>8.012991e+02</td>\n",
       "      <td>-1.010000e+01</td>\n",
       "      <td>5.080000e+01</td>\n",
       "      <td>6.060000e+01</td>\n",
       "      <td>7.930000e+01</td>\n",
       "      <td>9.998000e+03</td>\n",
       "    </tr>\n",
       "    <tr>\n",
       "      <th>numberoffloorsininsuredbuilding</th>\n",
       "      <td>152526.0</td>\n",
       "      <td>1.511631e+00</td>\n",
       "      <td>6.341992e-01</td>\n",
       "      <td>1.000000e+00</td>\n",
       "      <td>1.000000e+00</td>\n",
       "      <td>1.000000e+00</td>\n",
       "      <td>2.000000e+00</td>\n",
       "      <td>6.000000e+00</td>\n",
       "    </tr>\n",
       "    <tr>\n",
       "      <th>obstructiontype</th>\n",
       "      <td>6665.0</td>\n",
       "      <td>3.050443e+01</td>\n",
       "      <td>2.115903e+01</td>\n",
       "      <td>1.000000e+01</td>\n",
       "      <td>1.000000e+01</td>\n",
       "      <td>1.500000e+01</td>\n",
       "      <td>5.000000e+01</td>\n",
       "      <td>9.200000e+01</td>\n",
       "    </tr>\n",
       "    <tr>\n",
       "      <th>occupancytype</th>\n",
       "      <td>152557.0</td>\n",
       "      <td>1.257805e+00</td>\n",
       "      <td>9.961268e-01</td>\n",
       "      <td>1.000000e+00</td>\n",
       "      <td>1.000000e+00</td>\n",
       "      <td>1.000000e+00</td>\n",
       "      <td>1.000000e+00</td>\n",
       "      <td>6.000000e+00</td>\n",
       "    </tr>\n",
       "    <tr>\n",
       "      <th>policycost</th>\n",
       "      <td>152557.0</td>\n",
       "      <td>7.567543e+02</td>\n",
       "      <td>9.937751e+02</td>\n",
       "      <td>-2.800000e+01</td>\n",
       "      <td>4.800000e+02</td>\n",
       "      <td>4.820000e+02</td>\n",
       "      <td>6.420000e+02</td>\n",
       "      <td>6.519400e+04</td>\n",
       "    </tr>\n",
       "    <tr>\n",
       "      <th>policycount</th>\n",
       "      <td>152557.0</td>\n",
       "      <td>1.042915e+00</td>\n",
       "      <td>1.727393e+00</td>\n",
       "      <td>1.000000e+00</td>\n",
       "      <td>1.000000e+00</td>\n",
       "      <td>1.000000e+00</td>\n",
       "      <td>1.000000e+00</td>\n",
       "      <td>4.020000e+02</td>\n",
       "    </tr>\n",
       "    <tr>\n",
       "      <th>policytermindicator</th>\n",
       "      <td>152557.0</td>\n",
       "      <td>1.000354e+00</td>\n",
       "      <td>2.660473e-02</td>\n",
       "      <td>1.000000e+00</td>\n",
       "      <td>1.000000e+00</td>\n",
       "      <td>1.000000e+00</td>\n",
       "      <td>1.000000e+00</td>\n",
       "      <td>3.000000e+00</td>\n",
       "    </tr>\n",
       "    <tr>\n",
       "      <th>reportedzipcode</th>\n",
       "      <td>152557.0</td>\n",
       "      <td>7.705664e+04</td>\n",
       "      <td>1.979574e+02</td>\n",
       "      <td>7.018000e+03</td>\n",
       "      <td>7.702800e+04</td>\n",
       "      <td>7.705900e+04</td>\n",
       "      <td>7.708000e+04</td>\n",
       "      <td>9.703400e+04</td>\n",
       "    </tr>\n",
       "    <tr>\n",
       "      <th>totalbuildinginsurancecoverage</th>\n",
       "      <td>152557.0</td>\n",
       "      <td>2.165369e+05</td>\n",
       "      <td>3.417673e+05</td>\n",
       "      <td>0.000000e+00</td>\n",
       "      <td>1.500000e+05</td>\n",
       "      <td>2.500000e+05</td>\n",
       "      <td>2.500000e+05</td>\n",
       "      <td>9.980980e+07</td>\n",
       "    </tr>\n",
       "    <tr>\n",
       "      <th>totalcontentsinsurancecoverage</th>\n",
       "      <td>152557.0</td>\n",
       "      <td>8.018507e+04</td>\n",
       "      <td>5.560610e+04</td>\n",
       "      <td>0.000000e+00</td>\n",
       "      <td>5.000000e+04</td>\n",
       "      <td>1.000000e+05</td>\n",
       "      <td>1.000000e+05</td>\n",
       "      <td>5.000000e+05</td>\n",
       "    </tr>\n",
       "    <tr>\n",
       "      <th>totalinsurancepremiumofthepolicy</th>\n",
       "      <td>152557.0</td>\n",
       "      <td>5.778598e+02</td>\n",
       "      <td>8.297186e+02</td>\n",
       "      <td>1.000000e+00</td>\n",
       "      <td>3.530000e+02</td>\n",
       "      <td>3.760000e+02</td>\n",
       "      <td>3.760000e+02</td>\n",
       "      <td>5.473400e+04</td>\n",
       "    </tr>\n",
       "  </tbody>\n",
       "</table>\n",
       "</div>"
      ],
      "text/plain": [
       "                                     count          mean           std  \\\n",
       "basefloodelevation                 23638.0  6.258129e+01  7.039355e+01   \n",
       "basementenclosurecrawlspacetype   152551.0  5.901633e-02  3.949507e-01   \n",
       "censustract                       138990.0  4.820111e+10  3.812465e+06   \n",
       "countycode                        143345.0  4.820069e+04  3.785519e+00   \n",
       "crsdiscount                       152557.0  4.777395e-02  9.298668e-02   \n",
       "elevationdifference               152557.0  8.433434e+02  3.638272e+02   \n",
       "federalpolicyfee                  152557.0  3.176452e+01  4.649017e+01   \n",
       "hfiaasurcharge                    152557.0  5.837626e+01  8.122970e+01   \n",
       "latitude                          138990.0  2.977091e+01  1.109165e-01   \n",
       "longitude                         138990.0 -9.544398e+01  1.558144e-01   \n",
       "lowestadjacentgrade                23563.0  6.337281e+01  1.469304e+02   \n",
       "lowestfloorelevation               23821.0  1.283621e+02  8.012991e+02   \n",
       "numberoffloorsininsuredbuilding   152526.0  1.511631e+00  6.341992e-01   \n",
       "obstructiontype                     6665.0  3.050443e+01  2.115903e+01   \n",
       "occupancytype                     152557.0  1.257805e+00  9.961268e-01   \n",
       "policycost                        152557.0  7.567543e+02  9.937751e+02   \n",
       "policycount                       152557.0  1.042915e+00  1.727393e+00   \n",
       "policytermindicator               152557.0  1.000354e+00  2.660473e-02   \n",
       "reportedzipcode                   152557.0  7.705664e+04  1.979574e+02   \n",
       "totalbuildinginsurancecoverage    152557.0  2.165369e+05  3.417673e+05   \n",
       "totalcontentsinsurancecoverage    152557.0  8.018507e+04  5.560610e+04   \n",
       "totalinsurancepremiumofthepolicy  152557.0  5.778598e+02  8.297186e+02   \n",
       "\n",
       "                                           min           25%           50%  \\\n",
       "basefloodelevation               -5.500000e+01  4.940000e+01  5.900000e+01   \n",
       "basementenclosurecrawlspacetype   0.000000e+00  0.000000e+00  0.000000e+00   \n",
       "censustract                       4.803966e+10  4.820134e+10  4.820143e+10   \n",
       "countycode                        4.803900e+04  4.820100e+04  4.820100e+04   \n",
       "crsdiscount                       0.000000e+00  0.000000e+00  0.000000e+00   \n",
       "elevationdifference              -9.986000e+03  9.990000e+02  9.990000e+02   \n",
       "federalpolicyfee                 -1.600000e+03  2.500000e+01  2.500000e+01   \n",
       "hfiaasurcharge                   -2.250000e+02  2.500000e+01  2.500000e+01   \n",
       "latitude                          2.950000e+01  2.970000e+01  2.980000e+01   \n",
       "longitude                        -9.590000e+01 -9.560000e+01 -9.550000e+01   \n",
       "lowestadjacentgrade              -6.600000e+00  4.880000e+01  5.860000e+01   \n",
       "lowestfloorelevation             -1.010000e+01  5.080000e+01  6.060000e+01   \n",
       "numberoffloorsininsuredbuilding   1.000000e+00  1.000000e+00  1.000000e+00   \n",
       "obstructiontype                   1.000000e+01  1.000000e+01  1.500000e+01   \n",
       "occupancytype                     1.000000e+00  1.000000e+00  1.000000e+00   \n",
       "policycost                       -2.800000e+01  4.800000e+02  4.820000e+02   \n",
       "policycount                       1.000000e+00  1.000000e+00  1.000000e+00   \n",
       "policytermindicator               1.000000e+00  1.000000e+00  1.000000e+00   \n",
       "reportedzipcode                   7.018000e+03  7.702800e+04  7.705900e+04   \n",
       "totalbuildinginsurancecoverage    0.000000e+00  1.500000e+05  2.500000e+05   \n",
       "totalcontentsinsurancecoverage    0.000000e+00  5.000000e+04  1.000000e+05   \n",
       "totalinsurancepremiumofthepolicy  1.000000e+00  3.530000e+02  3.760000e+02   \n",
       "\n",
       "                                           75%           max  \n",
       "basefloodelevation                7.800000e+01  9.997000e+03  \n",
       "basementenclosurecrawlspacetype   0.000000e+00  4.000000e+00  \n",
       "censustract                       4.820152e+10  4.837321e+10  \n",
       "countycode                        4.820100e+04  4.837300e+04  \n",
       "crsdiscount                       0.000000e+00  2.500000e-01  \n",
       "elevationdifference               9.990000e+02  9.989000e+03  \n",
       "federalpolicyfee                  2.500000e+01  2.000000e+03  \n",
       "hfiaasurcharge                    2.500000e+01  2.500000e+02  \n",
       "latitude                          2.980000e+01  3.080000e+01  \n",
       "longitude                        -9.540000e+01 -9.510000e+01  \n",
       "lowestadjacentgrade               7.770000e+01  9.991000e+03  \n",
       "lowestfloorelevation              7.930000e+01  9.998000e+03  \n",
       "numberoffloorsininsuredbuilding   2.000000e+00  6.000000e+00  \n",
       "obstructiontype                   5.000000e+01  9.200000e+01  \n",
       "occupancytype                     1.000000e+00  6.000000e+00  \n",
       "policycost                        6.420000e+02  6.519400e+04  \n",
       "policycount                       1.000000e+00  4.020000e+02  \n",
       "policytermindicator               1.000000e+00  3.000000e+00  \n",
       "reportedzipcode                   7.708000e+04  9.703400e+04  \n",
       "totalbuildinginsurancecoverage    2.500000e+05  9.980980e+07  \n",
       "totalcontentsinsurancecoverage    1.000000e+05  5.000000e+05  \n",
       "totalinsurancepremiumofthepolicy  3.760000e+02  5.473400e+04  "
      ]
     },
     "execution_count": 24,
     "metadata": {},
     "output_type": "execute_result"
    }
   ],
   "source": [
    "data2019.describe().T"
   ]
  },
  {
   "cell_type": "markdown",
   "metadata": {},
   "source": [
    "For the target `totalinsurancepremiumofthepolicy`, the mean price is 582 and median price is 376, but the maximum price is 54,734 and the minimum price is only 1, so there are some extreme outlier values."
   ]
  },
  {
   "cell_type": "code",
   "execution_count": 25,
   "metadata": {},
   "outputs": [
    {
     "data": {
      "text/plain": [
       "0"
      ]
     },
     "execution_count": 25,
     "metadata": {},
     "output_type": "execute_result"
    }
   ],
   "source": [
    "data2019['totalinsurancepremiumofthepolicy'].isnull().sum()"
   ]
  },
  {
   "cell_type": "markdown",
   "metadata": {},
   "source": [
    "Note that there is no missing value for the target, which is good!"
   ]
  },
  {
   "cell_type": "markdown",
   "metadata": {},
   "source": [
    "#### 1.5.4.2 Distributions of Feature Values<a id='1.5.4.2_Distributions_of_Feature_Values'></a>"
   ]
  },
  {
   "cell_type": "markdown",
   "metadata": {},
   "source": [
    "Here we can take a look of the distributions of numerical features, which will help understand how each feayure looks like and whether there are any outliers."
   ]
  },
  {
   "cell_type": "code",
   "execution_count": 26,
   "metadata": {},
   "outputs": [
    {
     "data": {
      "image/png": "[encoded data removed]",
      "text/plain": [
       "<Figure size 1440x1296 with 25 Axes>"
      ]
     },
     "metadata": {},
     "output_type": "display_data"
    }
   ],
   "source": [
    "df_num = data2019.select_dtypes(include = ['int64', 'float64'])\n",
    "df_num.hist(figsize=(20,18))\n",
    "plt.subplots_adjust(hspace=0.5)"
   ]
  },
  {
   "cell_type": "markdown",
   "metadata": {},
   "source": [
    "Based on the preliminary analysis, a lot of features are clustered to one end, which indicates there are some extreme values as outliers for most features. "
   ]
  },
  {
   "cell_type": "markdown",
   "metadata": {},
   "source": [
    "#### 1.5.4.3 Missing Numeric Values<a id='1.5.4.3_Missing_Numeric_Values'></a>"
   ]
  },
  {
   "cell_type": "code",
   "execution_count": 27,
   "metadata": {},
   "outputs": [
    {
     "data": {
      "text/plain": [
       "basefloodelevation                  84.505464\n",
       "basementenclosurecrawlspacetype      0.003933\n",
       "cancellationdateoffloodpolicy       99.465118\n",
       "censustract                          8.893069\n",
       "countycode                           6.038399\n",
       "crsdiscount                          0.000000\n",
       "elevationdifference                  0.000000\n",
       "federalpolicyfee                     0.000000\n",
       "hfiaasurcharge                       0.000000\n",
       "latitude                             8.893069\n",
       "longitude                            8.893069\n",
       "lowestadjacentgrade                 84.554625\n",
       "lowestfloorelevation                84.385508\n",
       "numberoffloorsininsuredbuilding      0.020320\n",
       "obstructiontype                     95.631141\n",
       "occupancytype                        0.000000\n",
       "originalconstructiondate             0.017698\n",
       "originalnbdate                       0.000000\n",
       "policycost                           0.000000\n",
       "policycount                          0.000000\n",
       "policyeffectivedate                  0.000000\n",
       "policyterminationdate                0.000000\n",
       "policytermindicator                  0.000000\n",
       "reportedzipcode                      0.000000\n",
       "totalbuildinginsurancecoverage       0.000000\n",
       "totalcontentsinsurancecoverage       0.000000\n",
       "totalinsurancepremiumofthepolicy     0.000000\n",
       "dtype: float64"
      ]
     },
     "execution_count": 27,
     "metadata": {},
     "output_type": "execute_result"
    }
   ],
   "source": [
    "df_num = data2019.select_dtypes(exclude = 'object')\n",
    "df_num.isnull().mean() * 100"
   ]
  },
  {
   "cell_type": "markdown",
   "metadata": {},
   "source": [
    "As we explained earlier, `basefloodelevation`, `lowestadjacentgrade`, `lowestfloorelevation`, `cancellationdateoffloodpolicy`, and `obstructiontype` have a lot of missing values. It's difficult to fill in them with other values. The best way is to delete them in the modeling. "
   ]
  },
  {
   "cell_type": "markdown",
   "metadata": {},
   "source": [
    "In addition, a lot of features are actually categorical data, but because they have values of 0, 1, 2, etc., they are grouped in the numerical catrgory. We need to rethink how to investigate them."
   ]
  },
  {
   "cell_type": "markdown",
   "metadata": {},
   "source": [
    "#### 1.5.4.4 Select Policy with One-year Period<a id='1.5.4.4_One-year_Policy'></a>"
   ]
  },
  {
   "cell_type": "markdown",
   "metadata": {},
   "source": [
    "Some of the policies last for more than a year, while some of them last for a much short period. In order to have a consistent dataset, we only select the policy which has one-year period. To do so, we use `policyeffectivedate` and `policyterminationdate` to calculate the days, and keep the records which  have 365 or 366 days."
   ]
  },
  {
   "cell_type": "code",
   "execution_count": 28,
   "metadata": {},
   "outputs": [
    {
     "data": {
      "text/plain": [
       "95.54527160340069"
      ]
     },
     "execution_count": 28,
     "metadata": {},
     "output_type": "execute_result"
    }
   ],
   "source": [
    "policy_1year = (((data2019['policyterminationdate'] - data2019['policyeffectivedate']).dt.days == 365) | \\\n",
    "                 ((data2019['policyterminationdate'] - data2019['policyeffectivedate']).dt.days == 366))\n",
    "data2019[policy_1year].shape[0] / data2019.shape[0] * 100\n"
   ]
  },
  {
   "cell_type": "markdown",
   "metadata": {},
   "source": [
    "There are more than 95% of records which have one-year period of insurance, so we won't lose many data."
   ]
  },
  {
   "cell_type": "markdown",
   "metadata": {},
   "source": [
    "#### 1.5.4.5 Calculate the Buidling Age<a id='1.5.4.5_Buidling_Age'></a>"
   ]
  },
  {
   "cell_type": "markdown",
   "metadata": {},
   "source": [
    "The building age may be an important factor for the insurance premium. Here we use the `originalconstructiondate` and year 2019 (effective year for the policy) to calculate the building age."
   ]
  },
  {
   "cell_type": "code",
   "execution_count": 29,
   "metadata": {},
   "outputs": [
    {
     "data": {
      "text/plain": [
       "Text(0, 0.5, 'Number of Houses')"
      ]
     },
     "execution_count": 29,
     "metadata": {},
     "output_type": "execute_result"
    },
    {
     "data": {
      "image/png": "[encoded data removed]",
      "text/plain": [
       "<Figure size 432x288 with 1 Axes>"
      ]
     },
     "metadata": {},
     "output_type": "display_data"
    }
   ],
   "source": [
    "data2019['buildingage'] = 2019 - data2019['originalconstructiondate'].dt.year\n",
    "plt.plot(figsize=(15,12))\n",
    "plt.hist(data2019['buildingage'], bins=[0,10,20,30,40,50,60,70,80,90,100,110,120,130], edgecolor='black', linewidth=0.5)\n",
    "plt.xlabel('Building Age', fontsize=15)\n",
    "plt.ylabel('Number of Houses', fontsize=15)"
   ]
  },
  {
   "cell_type": "markdown",
   "metadata": {},
   "source": [
    "Most of the buidlings are from 40 to 60 years old. There are some buidlings which are much older, and also others are relatively newer. This new varibale will be used in the modeling."
   ]
  },
  {
   "cell_type": "markdown",
   "metadata": {},
   "source": [
    "#### 1.5.4.6 Data Exploration for a Few Features<a id='1.5.4.6_Exploration_Features'></a>"
   ]
  },
  {
   "cell_type": "markdown",
   "metadata": {},
   "source": [
    "**First, let's check how `totalbuildinginsurancecoverage` look like**"
   ]
  },
  {
   "cell_type": "code",
   "execution_count": 30,
   "metadata": {},
   "outputs": [
    {
     "data": {
      "text/plain": [
       "Text(0, 0.5, 'Number of Houses')"
      ]
     },
     "execution_count": 30,
     "metadata": {},
     "output_type": "execute_result"
    },
    {
     "data": {
      "image/png": "[encoded data removed]",
      "text/plain": [
       "<Figure size 432x288 with 1 Axes>"
      ]
     },
     "metadata": {},
     "output_type": "display_data"
    }
   ],
   "source": [
    "plt.plot(figsize=(15,12))\n",
    "plt.hist(data2019['totalbuildinginsurancecoverage'], edgecolor='black', linewidth=0.5)\n",
    "plt.xlabel('Total Buidling Insurance Coverage', fontsize=15)\n",
    "plt.ylabel('Number of Houses', fontsize=15)"
   ]
  },
  {
   "cell_type": "markdown",
   "metadata": {},
   "source": [
    "As we can see, the data is clustered to one end, so there are some extreme outlier values. Let's check its statistics."
   ]
  },
  {
   "cell_type": "code",
   "execution_count": 31,
   "metadata": {},
   "outputs": [
    {
     "data": {
      "text/plain": [
       "count    1.525570e+05\n",
       "mean     2.165369e+05\n",
       "std      3.417673e+05\n",
       "min      0.000000e+00\n",
       "25%      1.500000e+05\n",
       "50%      2.500000e+05\n",
       "75%      2.500000e+05\n",
       "max      9.980980e+07\n",
       "Name: totalbuildinginsurancecoverage, dtype: float64"
      ]
     },
     "execution_count": 31,
     "metadata": {},
     "output_type": "execute_result"
    }
   ],
   "source": [
    "data2019['totalbuildinginsurancecoverage'].describe()"
   ]
  },
  {
   "cell_type": "markdown",
   "metadata": {},
   "source": [
    "As we can see, the mean and median values are in the order of magnitude of 1E+05. The standard deviation is 3.4E+05. We can try to use 95% of the distribution and see how the new data look like."
   ]
  },
  {
   "cell_type": "code",
   "execution_count": 32,
   "metadata": {},
   "outputs": [
    {
     "name": "stdout",
     "output_type": "stream",
     "text": [
      "The percentage of data with 95% interval is:  97.31575738904147\n",
      "The lower and upper bounds are:  10000.0 500000.0\n"
     ]
    },
    {
     "data": {
      "text/plain": [
       "Text(0, 0.5, 'Number of Houses')"
      ]
     },
     "execution_count": 32,
     "metadata": {},
     "output_type": "execute_result"
    },
    {
     "data": {
      "image/png": "[encoded data removed]",
      "text/plain": [
       "<Figure size 432x288 with 1 Axes>"
      ]
     },
     "metadata": {},
     "output_type": "display_data"
    }
   ],
   "source": [
    "lower, upper = data2019['totalbuildinginsurancecoverage'].quantile([0.025, 0.975])\n",
    "building_coverage = ((data2019['totalbuildinginsurancecoverage'] >= lower) & (data2019['totalbuildinginsurancecoverage'] <= upper))\n",
    "test = data2019[building_coverage]['totalbuildinginsurancecoverage']\n",
    "print('The percentage of data with 95% interval is: ', len(test) / len(data2019['totalbuildinginsurancecoverage']) * 100)\n",
    "print('The lower and upper bounds are: ', lower, upper)\n",
    "\n",
    "plt.plot(figsize=(15,12))\n",
    "plt.hist(test, bins=10, edgecolor='black', linewidth=0.5)\n",
    "plt.xlabel('Total Buidling Insurance Coverage', fontsize=15)\n",
    "plt.ylabel('Number of Houses', fontsize=15)"
   ]
  },
  {
   "cell_type": "markdown",
   "metadata": {},
   "source": [
    "As we can see, the distrubtion looks better. There are still some values higher than 250,000 which causes the long tail. But for now, let's use the 95% rule, and we can furture investigate in EDA if we need to conduct addtional data processing. "
   ]
  },
  {
   "cell_type": "markdown",
   "metadata": {},
   "source": [
    "**Next, let's check how `totalcontentsinsurancecoverage` look like**"
   ]
  },
  {
   "cell_type": "code",
   "execution_count": 33,
   "metadata": {},
   "outputs": [
    {
     "data": {
      "text/plain": [
       "Text(0, 0.5, 'Number of Houses')"
      ]
     },
     "execution_count": 33,
     "metadata": {},
     "output_type": "execute_result"
    },
    {
     "data": {
      "image/png": "[encoded data removed]",
      "text/plain": [
       "<Figure size 432x288 with 1 Axes>"
      ]
     },
     "metadata": {},
     "output_type": "display_data"
    }
   ],
   "source": [
    "plt.plot(figsize=(15,12))\n",
    "plt.hist(data2019['totalcontentsinsurancecoverage'], edgecolor='black', linewidth=0.5)\n",
    "plt.xlabel('Total Contents Insurance Coverage', fontsize=15)\n",
    "plt.ylabel('Number of Houses', fontsize=15)"
   ]
  },
  {
   "cell_type": "code",
   "execution_count": 34,
   "metadata": {},
   "outputs": [
    {
     "data": {
      "text/plain": [
       "count    152557.000000\n",
       "mean      80185.067221\n",
       "std       55606.095216\n",
       "min           0.000000\n",
       "25%       50000.000000\n",
       "50%      100000.000000\n",
       "75%      100000.000000\n",
       "max      500000.000000\n",
       "Name: totalcontentsinsurancecoverage, dtype: float64"
      ]
     },
     "execution_count": 34,
     "metadata": {},
     "output_type": "execute_result"
    }
   ],
   "source": [
    "data2019['totalcontentsinsurancecoverage'].describe()"
   ]
  },
  {
   "cell_type": "markdown",
   "metadata": {},
   "source": [
    "Let's use the similar 95% rule to see how the new dataset look like"
   ]
  },
  {
   "cell_type": "code",
   "execution_count": 35,
   "metadata": {},
   "outputs": [
    {
     "name": "stdout",
     "output_type": "stream",
     "text": [
      "The percentage of data with 95% interval is:  98.13381228000027\n",
      "The lower and upper bounds are:  0.0 100000.0\n"
     ]
    },
    {
     "data": {
      "text/plain": [
       "Text(0, 0.5, 'Number of Houses')"
      ]
     },
     "execution_count": 35,
     "metadata": {},
     "output_type": "execute_result"
    },
    {
     "data": {
      "image/png": "[encoded data removed]",
      "text/plain": [
       "<Figure size 432x288 with 1 Axes>"
      ]
     },
     "metadata": {},
     "output_type": "display_data"
    }
   ],
   "source": [
    "lower, upper = data2019['totalcontentsinsurancecoverage'].quantile([0.025, 0.975])\n",
    "content_coverage = ((data2019['totalcontentsinsurancecoverage'] >= lower) & (data2019['totalcontentsinsurancecoverage'] <= upper))\n",
    "test = data2019[content_coverage]['totalcontentsinsurancecoverage']\n",
    "print('The percentage of data with 95% interval is: ', len(test) / len(data2019['totalcontentsinsurancecoverage']) * 100)\n",
    "print('The lower and upper bounds are: ', lower, upper)\n",
    "\n",
    "plt.plot(figsize=(10,8))\n",
    "plt.hist(test, bins=10, edgecolor='black', linewidth=0.5)\n",
    "plt.xlabel('Total Contents Insurance Coverage', fontsize=15)\n",
    "plt.ylabel('Number of Houses', fontsize=15)"
   ]
  },
  {
   "cell_type": "markdown",
   "metadata": {},
   "source": [
    "**As we explained earlier, we might remove the variables `basefloodelevation`, `elevationdifference`, `lowestadjacentgrade`, and `lowestfloorelevation` because they have a lot of missing values. But first, let's explore their distributions.**"
   ]
  },
  {
   "cell_type": "markdown",
   "metadata": {},
   "source": [
    "First, let's check the distribution of `basefloodelevation` using the 95% rule."
   ]
  },
  {
   "cell_type": "code",
   "execution_count": 36,
   "metadata": {},
   "outputs": [
    {
     "data": {
      "text/plain": [
       "Text(0, 0.5, 'Number of Houses')"
      ]
     },
     "execution_count": 36,
     "metadata": {},
     "output_type": "execute_result"
    },
    {
     "data": {
      "image/png": "[encoded data removed]",
      "text/plain": [
       "<Figure size 432x288 with 1 Axes>"
      ]
     },
     "metadata": {},
     "output_type": "display_data"
    }
   ],
   "source": [
    "lower, upper = data2019['basefloodelevation'].quantile([0.025, 0.975])\n",
    "basefloodelevation = ((data2019['basefloodelevation'] >= lower) & (data2019['basefloodelevation'] <= upper))\n",
    "bfe = data2019[basefloodelevation]['basefloodelevation']\n",
    "\n",
    "plt.plot(figsize=(10,8))\n",
    "plt.hist(bfe, bins=10, edgecolor='black', linewidth=0.5)\n",
    "plt.xlabel('Base Flooded Elevation', fontsize=15)\n",
    "plt.ylabel('Number of Houses', fontsize=15)"
   ]
  },
  {
   "cell_type": "markdown",
   "metadata": {},
   "source": [
    "Next, let's check the distribution of `lowestfloorelevation` using the 95% rule."
   ]
  },
  {
   "cell_type": "code",
   "execution_count": 37,
   "metadata": {},
   "outputs": [
    {
     "data": {
      "text/plain": [
       "Text(0, 0.5, 'Number of Houses')"
      ]
     },
     "execution_count": 37,
     "metadata": {},
     "output_type": "execute_result"
    },
    {
     "data": {
      "image/png": "[encoded data removed]",
      "text/plain": [
       "<Figure size 432x288 with 1 Axes>"
      ]
     },
     "metadata": {},
     "output_type": "display_data"
    }
   ],
   "source": [
    "lower, upper = data2019['lowestfloorelevation'].quantile([0.025, 0.975])\n",
    "lowestfloorelevation = ((data2019['lowestfloorelevation'] >= lower) & (data2019['lowestfloorelevation'] <= upper))\n",
    "lfe = data2019[lowestfloorelevation]['lowestfloorelevation']\n",
    "plt.plot(figsize=(10,8))\n",
    "plt.hist(lfe, bins=10, edgecolor='black', linewidth=0.5)\n",
    "plt.xlabel('Lowest Floor Elevation', fontsize=15)\n",
    "plt.ylabel('Number of Houses', fontsize=15)"
   ]
  },
  {
   "cell_type": "markdown",
   "metadata": {},
   "source": [
    "Next, let's check the distribution of `lowestadjacentgrade` using the 95% rule."
   ]
  },
  {
   "cell_type": "code",
   "execution_count": 38,
   "metadata": {},
   "outputs": [
    {
     "data": {
      "text/plain": [
       "Text(0, 0.5, 'Number of Houses')"
      ]
     },
     "execution_count": 38,
     "metadata": {},
     "output_type": "execute_result"
    },
    {
     "data": {
      "image/png": "[encoded data removed]",
      "text/plain": [
       "<Figure size 432x288 with 1 Axes>"
      ]
     },
     "metadata": {},
     "output_type": "display_data"
    }
   ],
   "source": [
    "lower, upper = data2019['lowestadjacentgrade'].quantile([0.025, 0.975])\n",
    "lowestadjacentgrade = ((data2019['lowestadjacentgrade'] >= lower) & (data2019['lowestadjacentgrade'] <= upper))\n",
    "lag = data2019[lowestadjacentgrade]['lowestadjacentgrade']\n",
    "plt.plot(figsize=(10,8))\n",
    "plt.hist(lag, bins=10, edgecolor='black', linewidth=0.5)\n",
    "plt.xlabel('Lowest Adjacent Grade', fontsize=15)\n",
    "plt.ylabel('Number of Houses', fontsize=15)"
   ]
  },
  {
   "cell_type": "markdown",
   "metadata": {},
   "source": [
    "The distributions of the three variables look similar. If we do use them in the modeling, we may only need to use one of them. We can conduct additional analysis in EDA to decide."
   ]
  },
  {
   "cell_type": "markdown",
   "metadata": {},
   "source": [
    "For `elevationdifference`, as shown below, there are more than 84% of this variable has a value of 999, which is noted as not reported. "
   ]
  },
  {
   "cell_type": "code",
   "execution_count": 39,
   "metadata": {},
   "outputs": [
    {
     "data": {
      "text/plain": [
       "999    0.843967\n",
       "Name: elevationdifference, dtype: float64"
      ]
     },
     "execution_count": 39,
     "metadata": {},
     "output_type": "execute_result"
    }
   ],
   "source": [
    "data2019[(data2019['elevationdifference'] == 999)]['elevationdifference'].value_counts() / data2019.shape[0]"
   ]
  },
  {
   "cell_type": "markdown",
   "metadata": {},
   "source": [
    "Let's remove the records with value of 999 and see what's left."
   ]
  },
  {
   "cell_type": "code",
   "execution_count": 40,
   "metadata": {},
   "outputs": [
    {
     "data": {
      "text/plain": [
       "count    23804.000000\n",
       "mean         1.415266\n",
       "std         91.897424\n",
       "min      -9986.000000\n",
       "25%          0.000000\n",
       "50%          1.000000\n",
       "75%          2.000000\n",
       "max       9989.000000\n",
       "Name: elevationdifference, dtype: float64"
      ]
     },
     "execution_count": 40,
     "metadata": {},
     "output_type": "execute_result"
    }
   ],
   "source": [
    "temp = data2019[(data2019['elevationdifference'] != 999)]\n",
    "temp['elevationdifference'].describe()"
   ]
  },
  {
   "cell_type": "markdown",
   "metadata": {},
   "source": [
    "It still has some extreme values. According to the manual, the difference is generally than 100 ft. Let's remove anything above 100 and below -100."
   ]
  },
  {
   "cell_type": "code",
   "execution_count": 41,
   "metadata": {},
   "outputs": [
    {
     "data": {
      "text/plain": [
       "Text(0, 0.5, 'Number of Houses')"
      ]
     },
     "execution_count": 41,
     "metadata": {},
     "output_type": "execute_result"
    },
    {
     "data": {
      "image/png": "[encoded data removed]",
      "text/plain": [
       "<Figure size 432x288 with 1 Axes>"
      ]
     },
     "metadata": {},
     "output_type": "display_data"
    }
   ],
   "source": [
    "temp = temp[(temp['elevationdifference']<100) & (temp['elevationdifference']> -100)]\n",
    "plt.plot(figsize=(10,8))\n",
    "plt.hist(temp['elevationdifference'], bins=10, edgecolor='black', linewidth=0.5)\n",
    "plt.xlabel('Elevation Difference', fontsize=15)\n",
    "plt.ylabel('Number of Houses', fontsize=15)"
   ]
  },
  {
   "cell_type": "markdown",
   "metadata": {},
   "source": [
    "Overall, most values are between -20 and 20 ft. "
   ]
  },
  {
   "cell_type": "markdown",
   "metadata": {},
   "source": [
    "**Note that some of the numerical features are actually categorical data, such as `basementenclosurecrawlspacetype`, `policycount`, `numberoffloorsininsuredbuilding`, `occupancytype`. We can conduct furture analysis in EDA.**"
   ]
  },
  {
   "cell_type": "markdown",
   "metadata": {},
   "source": [
    "### 1.5.5 Target<a id='1.5.5_Target'></a>"
   ]
  },
  {
   "cell_type": "markdown",
   "metadata": {},
   "source": [
    "**Explore the relationship between `policycost` and `totalinsurancepremiumofthepolicy`**\n",
    "\n",
    "These two variables: `policycost` and `totalinsurancepremiumofthepolicy`, are related, see the scatter plot below. Since we chose `totalinsurancepremiumofthepolicy` as the target, we can remove `policycost` from the dataset."
   ]
  },
  {
   "cell_type": "code",
   "execution_count": 42,
   "metadata": {},
   "outputs": [
    {
     "data": {
      "text/plain": [
       "Text(0, 0.5, 'Total Insurance Premium')"
      ]
     },
     "execution_count": 42,
     "metadata": {},
     "output_type": "execute_result"
    },
    {
     "data": {
      "image/png": "[encoded data removed]",
      "text/plain": [
       "<Figure size 720x576 with 1 Axes>"
      ]
     },
     "metadata": {},
     "output_type": "display_data"
    }
   ],
   "source": [
    "sns.set(style=\"darkgrid\", rc = {'figure.figsize':(10,8)})\n",
    "sns.scatterplot(x='policycost', y='totalinsurancepremiumofthepolicy', data=data2019)\n",
    "plt.xlabel('Policy Cost', fontsize=15)\n",
    "plt.ylabel('Total Insurance Premium', fontsize=15)"
   ]
  },
  {
   "cell_type": "markdown",
   "metadata": {},
   "source": [
    "`policycost` is calculated by adding together calculated premium, reserve fund assessment, federal policy fee, and HFIAA surcharge. Therefore, if we choose the premium as the target, we can remove reserve fund assessment, remove federal policy fee, and HFIAA surcharge from the dataset. I didn't find anything related to reserve fund assessment, but these two variables: `federalpolicyfee` and `hfiaasurcharge` can be deleted from the modeling."
   ]
  },
  {
   "cell_type": "markdown",
   "metadata": {},
   "source": [
    "## 1.6 Data Cleaning and Save New Data<a id='1.6_Data_Cleaning'></a>"
   ]
  },
  {
   "cell_type": "markdown",
   "metadata": {},
   "source": [
    "As we discussed earlier, some variables will be removed in the modeling, and some will be kept. Also, we consider to some variables which have a lot of missing values, but we may want to bring them back later. \n",
    "\n",
    "First, for those variables we will remove for sure, we will drop them.\n",
    "Second, for those variables we are not 100% sure, I'll create two versions of new datasets - one with those variables removed, and the other one with those variables kept."
   ]
  },
  {
   "cell_type": "code",
   "execution_count": 43,
   "metadata": {},
   "outputs": [
    {
     "data": {
      "text/html": [
       "<div>\n",
       "<style scoped>\n",
       "    .dataframe tbody tr th:only-of-type {\n",
       "        vertical-align: middle;\n",
       "    }\n",
       "\n",
       "    .dataframe tbody tr th {\n",
       "        vertical-align: top;\n",
       "    }\n",
       "\n",
       "    .dataframe thead th {\n",
       "        text-align: right;\n",
       "    }\n",
       "</style>\n",
       "<table border=\"1\" class=\"dataframe\">\n",
       "  <thead>\n",
       "    <tr style=\"text-align: right;\">\n",
       "      <th></th>\n",
       "      <th>agriculturestructureindicator</th>\n",
       "      <th>basefloodelevation</th>\n",
       "      <th>basementenclosurecrawlspacetype</th>\n",
       "      <th>cancellationdateoffloodpolicy</th>\n",
       "      <th>censustract</th>\n",
       "      <th>condominiumindicator</th>\n",
       "      <th>construction</th>\n",
       "      <th>countycode</th>\n",
       "      <th>crsdiscount</th>\n",
       "      <th>deductibleamountinbuildingcoverage</th>\n",
       "      <th>...</th>\n",
       "      <th>propertystate</th>\n",
       "      <th>reportedzipcode</th>\n",
       "      <th>ratemethod</th>\n",
       "      <th>regularemergencyprogramindicator</th>\n",
       "      <th>reportedcity</th>\n",
       "      <th>smallbusinessindicatorbuilding</th>\n",
       "      <th>totalbuildinginsurancecoverage</th>\n",
       "      <th>totalcontentsinsurancecoverage</th>\n",
       "      <th>totalinsurancepremiumofthepolicy</th>\n",
       "      <th>buildingage</th>\n",
       "    </tr>\n",
       "  </thead>\n",
       "  <tbody>\n",
       "    <tr>\n",
       "      <th>0</th>\n",
       "      <td>N</td>\n",
       "      <td>NaN</td>\n",
       "      <td>0.0</td>\n",
       "      <td>NaT</td>\n",
       "      <td>4.820143e+10</td>\n",
       "      <td>N</td>\n",
       "      <td>N</td>\n",
       "      <td>48201.0</td>\n",
       "      <td>0.0</td>\n",
       "      <td>F</td>\n",
       "      <td>...</td>\n",
       "      <td>TX</td>\n",
       "      <td>77024</td>\n",
       "      <td>7</td>\n",
       "      <td>R</td>\n",
       "      <td>HOUSTON</td>\n",
       "      <td>N</td>\n",
       "      <td>250000</td>\n",
       "      <td>100000</td>\n",
       "      <td>376</td>\n",
       "      <td>60.0</td>\n",
       "    </tr>\n",
       "    <tr>\n",
       "      <th>1</th>\n",
       "      <td>N</td>\n",
       "      <td>NaN</td>\n",
       "      <td>0.0</td>\n",
       "      <td>NaT</td>\n",
       "      <td>4.820152e+10</td>\n",
       "      <td>N</td>\n",
       "      <td>N</td>\n",
       "      <td>48201.0</td>\n",
       "      <td>0.0</td>\n",
       "      <td>F</td>\n",
       "      <td>...</td>\n",
       "      <td>TX</td>\n",
       "      <td>77043</td>\n",
       "      <td>7</td>\n",
       "      <td>R</td>\n",
       "      <td>HOUSTON</td>\n",
       "      <td>N</td>\n",
       "      <td>200000</td>\n",
       "      <td>80000</td>\n",
       "      <td>353</td>\n",
       "      <td>54.0</td>\n",
       "    </tr>\n",
       "    <tr>\n",
       "      <th>2</th>\n",
       "      <td>N</td>\n",
       "      <td>NaN</td>\n",
       "      <td>0.0</td>\n",
       "      <td>NaT</td>\n",
       "      <td>4.820154e+10</td>\n",
       "      <td>N</td>\n",
       "      <td>N</td>\n",
       "      <td>48201.0</td>\n",
       "      <td>0.0</td>\n",
       "      <td>F</td>\n",
       "      <td>...</td>\n",
       "      <td>TX</td>\n",
       "      <td>77084</td>\n",
       "      <td>7</td>\n",
       "      <td>R</td>\n",
       "      <td>HOUSTON</td>\n",
       "      <td>N</td>\n",
       "      <td>250000</td>\n",
       "      <td>100000</td>\n",
       "      <td>374</td>\n",
       "      <td>13.0</td>\n",
       "    </tr>\n",
       "    <tr>\n",
       "      <th>3</th>\n",
       "      <td>N</td>\n",
       "      <td>NaN</td>\n",
       "      <td>0.0</td>\n",
       "      <td>NaT</td>\n",
       "      <td>NaN</td>\n",
       "      <td>N</td>\n",
       "      <td>N</td>\n",
       "      <td>NaN</td>\n",
       "      <td>0.0</td>\n",
       "      <td>F</td>\n",
       "      <td>...</td>\n",
       "      <td>TX</td>\n",
       "      <td>77008</td>\n",
       "      <td>7</td>\n",
       "      <td>R</td>\n",
       "      <td>HOUSTON</td>\n",
       "      <td>N</td>\n",
       "      <td>250000</td>\n",
       "      <td>100000</td>\n",
       "      <td>376</td>\n",
       "      <td>17.0</td>\n",
       "    </tr>\n",
       "    <tr>\n",
       "      <th>4</th>\n",
       "      <td>N</td>\n",
       "      <td>NaN</td>\n",
       "      <td>0.0</td>\n",
       "      <td>NaT</td>\n",
       "      <td>NaN</td>\n",
       "      <td>N</td>\n",
       "      <td>N</td>\n",
       "      <td>48201.0</td>\n",
       "      <td>0.0</td>\n",
       "      <td>F</td>\n",
       "      <td>...</td>\n",
       "      <td>TX</td>\n",
       "      <td>77067</td>\n",
       "      <td>7</td>\n",
       "      <td>R</td>\n",
       "      <td>HOUSTON</td>\n",
       "      <td>N</td>\n",
       "      <td>250000</td>\n",
       "      <td>100000</td>\n",
       "      <td>376</td>\n",
       "      <td>38.0</td>\n",
       "    </tr>\n",
       "  </tbody>\n",
       "</table>\n",
       "<p>5 rows × 46 columns</p>\n",
       "</div>"
      ],
      "text/plain": [
       "  agriculturestructureindicator  basefloodelevation  \\\n",
       "0                             N                 NaN   \n",
       "1                             N                 NaN   \n",
       "2                             N                 NaN   \n",
       "3                             N                 NaN   \n",
       "4                             N                 NaN   \n",
       "\n",
       "   basementenclosurecrawlspacetype cancellationdateoffloodpolicy  \\\n",
       "0                              0.0                           NaT   \n",
       "1                              0.0                           NaT   \n",
       "2                              0.0                           NaT   \n",
       "3                              0.0                           NaT   \n",
       "4                              0.0                           NaT   \n",
       "\n",
       "    censustract condominiumindicator construction  countycode  crsdiscount  \\\n",
       "0  4.820143e+10                    N            N     48201.0          0.0   \n",
       "1  4.820152e+10                    N            N     48201.0          0.0   \n",
       "2  4.820154e+10                    N            N     48201.0          0.0   \n",
       "3           NaN                    N            N         NaN          0.0   \n",
       "4           NaN                    N            N     48201.0          0.0   \n",
       "\n",
       "  deductibleamountinbuildingcoverage  ... propertystate reportedzipcode  \\\n",
       "0                                  F  ...            TX           77024   \n",
       "1                                  F  ...            TX           77043   \n",
       "2                                  F  ...            TX           77084   \n",
       "3                                  F  ...            TX           77008   \n",
       "4                                  F  ...            TX           77067   \n",
       "\n",
       "  ratemethod  regularemergencyprogramindicator  reportedcity  \\\n",
       "0          7                                 R       HOUSTON   \n",
       "1          7                                 R       HOUSTON   \n",
       "2          7                                 R       HOUSTON   \n",
       "3          7                                 R       HOUSTON   \n",
       "4          7                                 R       HOUSTON   \n",
       "\n",
       "  smallbusinessindicatorbuilding  totalbuildinginsurancecoverage  \\\n",
       "0                              N                          250000   \n",
       "1                              N                          200000   \n",
       "2                              N                          250000   \n",
       "3                              N                          250000   \n",
       "4                              N                          250000   \n",
       "\n",
       "  totalcontentsinsurancecoverage  totalinsurancepremiumofthepolicy buildingage  \n",
       "0                         100000                               376        60.0  \n",
       "1                          80000                               353        54.0  \n",
       "2                         100000                               374        13.0  \n",
       "3                         100000                               376        17.0  \n",
       "4                         100000                               376        38.0  \n",
       "\n",
       "[5 rows x 46 columns]"
      ]
     },
     "execution_count": 43,
     "metadata": {},
     "output_type": "execute_result"
    }
   ],
   "source": [
    "data2019.head()"
   ]
  },
  {
   "cell_type": "markdown",
   "metadata": {},
   "source": [
    "The variables we will drop for sure include: `agriculturestructureindicator`, `cancellationdateoffloodpolicy`, `censustract`, `countycode`, `federalpolicyfee`, `hfiaasurcharge`, `houseofworshipindicator`, `latitude`, `longitude`, `nonprofitindicator`, `obstructiontype`, `originalconstructiondate`, `originalnbdate`, `policycost`, `policytermindicator`, `postfirmconstructionindicator`, `propertystate`, `reportedzipcode`, `regularemergencyprogramindicator`, `reportedcity`. "
   ]
  },
  {
   "cell_type": "code",
   "execution_count": 44,
   "metadata": {},
   "outputs": [
    {
     "data": {
      "text/html": [
       "<div>\n",
       "<style scoped>\n",
       "    .dataframe tbody tr th:only-of-type {\n",
       "        vertical-align: middle;\n",
       "    }\n",
       "\n",
       "    .dataframe tbody tr th {\n",
       "        vertical-align: top;\n",
       "    }\n",
       "\n",
       "    .dataframe thead th {\n",
       "        text-align: right;\n",
       "    }\n",
       "</style>\n",
       "<table border=\"1\" class=\"dataframe\">\n",
       "  <thead>\n",
       "    <tr style=\"text-align: right;\">\n",
       "      <th></th>\n",
       "      <th>basefloodelevation</th>\n",
       "      <th>basementenclosurecrawlspacetype</th>\n",
       "      <th>condominiumindicator</th>\n",
       "      <th>construction</th>\n",
       "      <th>crsdiscount</th>\n",
       "      <th>deductibleamountinbuildingcoverage</th>\n",
       "      <th>deductibleamountincontentscoverage</th>\n",
       "      <th>elevatedbuildingindicator</th>\n",
       "      <th>elevationcertificateindicator</th>\n",
       "      <th>elevationdifference</th>\n",
       "      <th>...</th>\n",
       "      <th>policycount</th>\n",
       "      <th>policyeffectivedate</th>\n",
       "      <th>policyterminationdate</th>\n",
       "      <th>primaryresidenceindicator</th>\n",
       "      <th>ratemethod</th>\n",
       "      <th>smallbusinessindicatorbuilding</th>\n",
       "      <th>totalbuildinginsurancecoverage</th>\n",
       "      <th>totalcontentsinsurancecoverage</th>\n",
       "      <th>totalinsurancepremiumofthepolicy</th>\n",
       "      <th>buildingage</th>\n",
       "    </tr>\n",
       "  </thead>\n",
       "  <tbody>\n",
       "    <tr>\n",
       "      <th>0</th>\n",
       "      <td>NaN</td>\n",
       "      <td>0.0</td>\n",
       "      <td>N</td>\n",
       "      <td>N</td>\n",
       "      <td>0.0</td>\n",
       "      <td>F</td>\n",
       "      <td>F</td>\n",
       "      <td>N</td>\n",
       "      <td>NaN</td>\n",
       "      <td>999</td>\n",
       "      <td>...</td>\n",
       "      <td>1</td>\n",
       "      <td>2019-07-28</td>\n",
       "      <td>2020-07-28</td>\n",
       "      <td>N</td>\n",
       "      <td>7</td>\n",
       "      <td>N</td>\n",
       "      <td>250000</td>\n",
       "      <td>100000</td>\n",
       "      <td>376</td>\n",
       "      <td>60.0</td>\n",
       "    </tr>\n",
       "    <tr>\n",
       "      <th>1</th>\n",
       "      <td>NaN</td>\n",
       "      <td>0.0</td>\n",
       "      <td>N</td>\n",
       "      <td>N</td>\n",
       "      <td>0.0</td>\n",
       "      <td>F</td>\n",
       "      <td>F</td>\n",
       "      <td>N</td>\n",
       "      <td>NaN</td>\n",
       "      <td>999</td>\n",
       "      <td>...</td>\n",
       "      <td>1</td>\n",
       "      <td>2019-04-25</td>\n",
       "      <td>2020-04-25</td>\n",
       "      <td>Y</td>\n",
       "      <td>7</td>\n",
       "      <td>N</td>\n",
       "      <td>200000</td>\n",
       "      <td>80000</td>\n",
       "      <td>353</td>\n",
       "      <td>54.0</td>\n",
       "    </tr>\n",
       "    <tr>\n",
       "      <th>2</th>\n",
       "      <td>NaN</td>\n",
       "      <td>0.0</td>\n",
       "      <td>N</td>\n",
       "      <td>N</td>\n",
       "      <td>0.0</td>\n",
       "      <td>F</td>\n",
       "      <td>F</td>\n",
       "      <td>N</td>\n",
       "      <td>NaN</td>\n",
       "      <td>999</td>\n",
       "      <td>...</td>\n",
       "      <td>1</td>\n",
       "      <td>2019-02-15</td>\n",
       "      <td>2020-02-15</td>\n",
       "      <td>Y</td>\n",
       "      <td>7</td>\n",
       "      <td>N</td>\n",
       "      <td>250000</td>\n",
       "      <td>100000</td>\n",
       "      <td>374</td>\n",
       "      <td>13.0</td>\n",
       "    </tr>\n",
       "    <tr>\n",
       "      <th>3</th>\n",
       "      <td>NaN</td>\n",
       "      <td>0.0</td>\n",
       "      <td>N</td>\n",
       "      <td>N</td>\n",
       "      <td>0.0</td>\n",
       "      <td>F</td>\n",
       "      <td>F</td>\n",
       "      <td>N</td>\n",
       "      <td>NaN</td>\n",
       "      <td>999</td>\n",
       "      <td>...</td>\n",
       "      <td>1</td>\n",
       "      <td>2019-08-07</td>\n",
       "      <td>2020-08-07</td>\n",
       "      <td>Y</td>\n",
       "      <td>7</td>\n",
       "      <td>N</td>\n",
       "      <td>250000</td>\n",
       "      <td>100000</td>\n",
       "      <td>376</td>\n",
       "      <td>17.0</td>\n",
       "    </tr>\n",
       "    <tr>\n",
       "      <th>4</th>\n",
       "      <td>NaN</td>\n",
       "      <td>0.0</td>\n",
       "      <td>N</td>\n",
       "      <td>N</td>\n",
       "      <td>0.0</td>\n",
       "      <td>F</td>\n",
       "      <td>F</td>\n",
       "      <td>N</td>\n",
       "      <td>NaN</td>\n",
       "      <td>999</td>\n",
       "      <td>...</td>\n",
       "      <td>1</td>\n",
       "      <td>2019-07-11</td>\n",
       "      <td>2020-07-11</td>\n",
       "      <td>Y</td>\n",
       "      <td>7</td>\n",
       "      <td>N</td>\n",
       "      <td>250000</td>\n",
       "      <td>100000</td>\n",
       "      <td>376</td>\n",
       "      <td>38.0</td>\n",
       "    </tr>\n",
       "  </tbody>\n",
       "</table>\n",
       "<p>5 rows × 26 columns</p>\n",
       "</div>"
      ],
      "text/plain": [
       "   basefloodelevation  basementenclosurecrawlspacetype condominiumindicator  \\\n",
       "0                 NaN                              0.0                    N   \n",
       "1                 NaN                              0.0                    N   \n",
       "2                 NaN                              0.0                    N   \n",
       "3                 NaN                              0.0                    N   \n",
       "4                 NaN                              0.0                    N   \n",
       "\n",
       "  construction  crsdiscount deductibleamountinbuildingcoverage  \\\n",
       "0            N          0.0                                  F   \n",
       "1            N          0.0                                  F   \n",
       "2            N          0.0                                  F   \n",
       "3            N          0.0                                  F   \n",
       "4            N          0.0                                  F   \n",
       "\n",
       "  deductibleamountincontentscoverage elevatedbuildingindicator  \\\n",
       "0                                  F                         N   \n",
       "1                                  F                         N   \n",
       "2                                  F                         N   \n",
       "3                                  F                         N   \n",
       "4                                  F                         N   \n",
       "\n",
       "  elevationcertificateindicator  elevationdifference  ... policycount  \\\n",
       "0                           NaN                  999  ...           1   \n",
       "1                           NaN                  999  ...           1   \n",
       "2                           NaN                  999  ...           1   \n",
       "3                           NaN                  999  ...           1   \n",
       "4                           NaN                  999  ...           1   \n",
       "\n",
       "  policyeffectivedate  policyterminationdate  primaryresidenceindicator  \\\n",
       "0          2019-07-28             2020-07-28                          N   \n",
       "1          2019-04-25             2020-04-25                          Y   \n",
       "2          2019-02-15             2020-02-15                          Y   \n",
       "3          2019-08-07             2020-08-07                          Y   \n",
       "4          2019-07-11             2020-07-11                          Y   \n",
       "\n",
       "   ratemethod  smallbusinessindicatorbuilding  totalbuildinginsurancecoverage  \\\n",
       "0           7                               N                          250000   \n",
       "1           7                               N                          200000   \n",
       "2           7                               N                          250000   \n",
       "3           7                               N                          250000   \n",
       "4           7                               N                          250000   \n",
       "\n",
       "  totalcontentsinsurancecoverage totalinsurancepremiumofthepolicy buildingage  \n",
       "0                         100000                              376        60.0  \n",
       "1                          80000                              353        54.0  \n",
       "2                         100000                              374        13.0  \n",
       "3                         100000                              376        17.0  \n",
       "4                         100000                              376        38.0  \n",
       "\n",
       "[5 rows x 26 columns]"
      ]
     },
     "execution_count": 44,
     "metadata": {},
     "output_type": "execute_result"
    }
   ],
   "source": [
    "df = data2019.drop(columns=['agriculturestructureindicator', 'cancellationdateoffloodpolicy', 'censustract', \n",
    "                                'countycode', 'federalpolicyfee', 'hfiaasurcharge', 'houseofworshipindicator', \n",
    "                                'latitude', 'longitude', 'nonprofitindicator', 'obstructiontype', \n",
    "                                 'originalconstructiondate', 'originalnbdate', 'policycost', 'policytermindicator', \n",
    "                                'postfirmconstructionindicator', 'propertystate', 'reportedzipcode', \n",
    "                                'regularemergencyprogramindicator', 'reportedcity'])\n",
    "df.head()"
   ]
  },
  {
   "cell_type": "markdown",
   "metadata": {},
   "source": [
    "Next, we only use the subset when the policy has one-year period."
   ]
  },
  {
   "cell_type": "code",
   "execution_count": 45,
   "metadata": {},
   "outputs": [
    {
     "data": {
      "text/plain": [
       "(145761, 26)"
      ]
     },
     "execution_count": 45,
     "metadata": {},
     "output_type": "execute_result"
    }
   ],
   "source": [
    "policy_1year = (((df['policyterminationdate'] - df['policyeffectivedate']).dt.days == 365) | \\\n",
    "                 ((df['policyterminationdate'] - df['policyeffectivedate']).dt.days == 366))\n",
    "df = df[policy_1year]\n",
    "df.shape"
   ]
  },
  {
   "cell_type": "markdown",
   "metadata": {},
   "source": [
    "After we keep the policies with only one-year period, we can remove the variables of `policyeffectivedate` and `policyterminationdate` since all these policies are for year 2019. "
   ]
  },
  {
   "cell_type": "code",
   "execution_count": 46,
   "metadata": {},
   "outputs": [
    {
     "data": {
      "text/html": [
       "<div>\n",
       "<style scoped>\n",
       "    .dataframe tbody tr th:only-of-type {\n",
       "        vertical-align: middle;\n",
       "    }\n",
       "\n",
       "    .dataframe tbody tr th {\n",
       "        vertical-align: top;\n",
       "    }\n",
       "\n",
       "    .dataframe thead th {\n",
       "        text-align: right;\n",
       "    }\n",
       "</style>\n",
       "<table border=\"1\" class=\"dataframe\">\n",
       "  <thead>\n",
       "    <tr style=\"text-align: right;\">\n",
       "      <th></th>\n",
       "      <th>basefloodelevation</th>\n",
       "      <th>basementenclosurecrawlspacetype</th>\n",
       "      <th>condominiumindicator</th>\n",
       "      <th>construction</th>\n",
       "      <th>crsdiscount</th>\n",
       "      <th>deductibleamountinbuildingcoverage</th>\n",
       "      <th>deductibleamountincontentscoverage</th>\n",
       "      <th>elevatedbuildingindicator</th>\n",
       "      <th>elevationcertificateindicator</th>\n",
       "      <th>elevationdifference</th>\n",
       "      <th>...</th>\n",
       "      <th>numberoffloorsininsuredbuilding</th>\n",
       "      <th>occupancytype</th>\n",
       "      <th>policycount</th>\n",
       "      <th>primaryresidenceindicator</th>\n",
       "      <th>ratemethod</th>\n",
       "      <th>smallbusinessindicatorbuilding</th>\n",
       "      <th>totalbuildinginsurancecoverage</th>\n",
       "      <th>totalcontentsinsurancecoverage</th>\n",
       "      <th>totalinsurancepremiumofthepolicy</th>\n",
       "      <th>buildingage</th>\n",
       "    </tr>\n",
       "  </thead>\n",
       "  <tbody>\n",
       "    <tr>\n",
       "      <th>0</th>\n",
       "      <td>NaN</td>\n",
       "      <td>0.0</td>\n",
       "      <td>N</td>\n",
       "      <td>N</td>\n",
       "      <td>0.0</td>\n",
       "      <td>F</td>\n",
       "      <td>F</td>\n",
       "      <td>N</td>\n",
       "      <td>NaN</td>\n",
       "      <td>999</td>\n",
       "      <td>...</td>\n",
       "      <td>1.0</td>\n",
       "      <td>1</td>\n",
       "      <td>1</td>\n",
       "      <td>N</td>\n",
       "      <td>7</td>\n",
       "      <td>N</td>\n",
       "      <td>250000</td>\n",
       "      <td>100000</td>\n",
       "      <td>376</td>\n",
       "      <td>60.0</td>\n",
       "    </tr>\n",
       "    <tr>\n",
       "      <th>1</th>\n",
       "      <td>NaN</td>\n",
       "      <td>0.0</td>\n",
       "      <td>N</td>\n",
       "      <td>N</td>\n",
       "      <td>0.0</td>\n",
       "      <td>F</td>\n",
       "      <td>F</td>\n",
       "      <td>N</td>\n",
       "      <td>NaN</td>\n",
       "      <td>999</td>\n",
       "      <td>...</td>\n",
       "      <td>1.0</td>\n",
       "      <td>1</td>\n",
       "      <td>1</td>\n",
       "      <td>Y</td>\n",
       "      <td>7</td>\n",
       "      <td>N</td>\n",
       "      <td>200000</td>\n",
       "      <td>80000</td>\n",
       "      <td>353</td>\n",
       "      <td>54.0</td>\n",
       "    </tr>\n",
       "    <tr>\n",
       "      <th>2</th>\n",
       "      <td>NaN</td>\n",
       "      <td>0.0</td>\n",
       "      <td>N</td>\n",
       "      <td>N</td>\n",
       "      <td>0.0</td>\n",
       "      <td>F</td>\n",
       "      <td>F</td>\n",
       "      <td>N</td>\n",
       "      <td>NaN</td>\n",
       "      <td>999</td>\n",
       "      <td>...</td>\n",
       "      <td>1.0</td>\n",
       "      <td>1</td>\n",
       "      <td>1</td>\n",
       "      <td>Y</td>\n",
       "      <td>7</td>\n",
       "      <td>N</td>\n",
       "      <td>250000</td>\n",
       "      <td>100000</td>\n",
       "      <td>374</td>\n",
       "      <td>13.0</td>\n",
       "    </tr>\n",
       "    <tr>\n",
       "      <th>3</th>\n",
       "      <td>NaN</td>\n",
       "      <td>0.0</td>\n",
       "      <td>N</td>\n",
       "      <td>N</td>\n",
       "      <td>0.0</td>\n",
       "      <td>F</td>\n",
       "      <td>F</td>\n",
       "      <td>N</td>\n",
       "      <td>NaN</td>\n",
       "      <td>999</td>\n",
       "      <td>...</td>\n",
       "      <td>3.0</td>\n",
       "      <td>1</td>\n",
       "      <td>1</td>\n",
       "      <td>Y</td>\n",
       "      <td>7</td>\n",
       "      <td>N</td>\n",
       "      <td>250000</td>\n",
       "      <td>100000</td>\n",
       "      <td>376</td>\n",
       "      <td>17.0</td>\n",
       "    </tr>\n",
       "    <tr>\n",
       "      <th>4</th>\n",
       "      <td>NaN</td>\n",
       "      <td>0.0</td>\n",
       "      <td>N</td>\n",
       "      <td>N</td>\n",
       "      <td>0.0</td>\n",
       "      <td>F</td>\n",
       "      <td>F</td>\n",
       "      <td>N</td>\n",
       "      <td>NaN</td>\n",
       "      <td>999</td>\n",
       "      <td>...</td>\n",
       "      <td>1.0</td>\n",
       "      <td>1</td>\n",
       "      <td>1</td>\n",
       "      <td>Y</td>\n",
       "      <td>7</td>\n",
       "      <td>N</td>\n",
       "      <td>250000</td>\n",
       "      <td>100000</td>\n",
       "      <td>376</td>\n",
       "      <td>38.0</td>\n",
       "    </tr>\n",
       "  </tbody>\n",
       "</table>\n",
       "<p>5 rows × 24 columns</p>\n",
       "</div>"
      ],
      "text/plain": [
       "   basefloodelevation  basementenclosurecrawlspacetype condominiumindicator  \\\n",
       "0                 NaN                              0.0                    N   \n",
       "1                 NaN                              0.0                    N   \n",
       "2                 NaN                              0.0                    N   \n",
       "3                 NaN                              0.0                    N   \n",
       "4                 NaN                              0.0                    N   \n",
       "\n",
       "  construction  crsdiscount deductibleamountinbuildingcoverage  \\\n",
       "0            N          0.0                                  F   \n",
       "1            N          0.0                                  F   \n",
       "2            N          0.0                                  F   \n",
       "3            N          0.0                                  F   \n",
       "4            N          0.0                                  F   \n",
       "\n",
       "  deductibleamountincontentscoverage elevatedbuildingindicator  \\\n",
       "0                                  F                         N   \n",
       "1                                  F                         N   \n",
       "2                                  F                         N   \n",
       "3                                  F                         N   \n",
       "4                                  F                         N   \n",
       "\n",
       "  elevationcertificateindicator  elevationdifference  ...  \\\n",
       "0                           NaN                  999  ...   \n",
       "1                           NaN                  999  ...   \n",
       "2                           NaN                  999  ...   \n",
       "3                           NaN                  999  ...   \n",
       "4                           NaN                  999  ...   \n",
       "\n",
       "  numberoffloorsininsuredbuilding occupancytype  policycount  \\\n",
       "0                             1.0             1            1   \n",
       "1                             1.0             1            1   \n",
       "2                             1.0             1            1   \n",
       "3                             3.0             1            1   \n",
       "4                             1.0             1            1   \n",
       "\n",
       "   primaryresidenceindicator  ratemethod  smallbusinessindicatorbuilding  \\\n",
       "0                          N           7                               N   \n",
       "1                          Y           7                               N   \n",
       "2                          Y           7                               N   \n",
       "3                          Y           7                               N   \n",
       "4                          Y           7                               N   \n",
       "\n",
       "   totalbuildinginsurancecoverage totalcontentsinsurancecoverage  \\\n",
       "0                          250000                         100000   \n",
       "1                          200000                          80000   \n",
       "2                          250000                         100000   \n",
       "3                          250000                         100000   \n",
       "4                          250000                         100000   \n",
       "\n",
       "  totalinsurancepremiumofthepolicy buildingage  \n",
       "0                              376        60.0  \n",
       "1                              353        54.0  \n",
       "2                              374        13.0  \n",
       "3                              376        17.0  \n",
       "4                              376        38.0  \n",
       "\n",
       "[5 rows x 24 columns]"
      ]
     },
     "execution_count": 46,
     "metadata": {},
     "output_type": "execute_result"
    }
   ],
   "source": [
    "df = df.drop(columns=['policyeffectivedate', 'policyterminationdate'])\n",
    "df.head()"
   ]
  },
  {
   "cell_type": "markdown",
   "metadata": {},
   "source": [
    "Also, we only use the subset where policycount=1 so that we only focus on the data where there is a single policy."
   ]
  },
  {
   "cell_type": "code",
   "execution_count": 47,
   "metadata": {},
   "outputs": [
    {
     "data": {
      "text/plain": [
       "(145410, 24)"
      ]
     },
     "execution_count": 47,
     "metadata": {},
     "output_type": "execute_result"
    }
   ],
   "source": [
    "policy_count = (df['policycount']  == 1)\n",
    "df = df[policy_count]\n",
    "df.shape"
   ]
  },
  {
   "cell_type": "markdown",
   "metadata": {},
   "source": [
    "After we keep the policies with policycount=1, we can remove the variable of `policycount`."
   ]
  },
  {
   "cell_type": "code",
   "execution_count": 48,
   "metadata": {},
   "outputs": [
    {
     "data": {
      "text/html": [
       "<div>\n",
       "<style scoped>\n",
       "    .dataframe tbody tr th:only-of-type {\n",
       "        vertical-align: middle;\n",
       "    }\n",
       "\n",
       "    .dataframe tbody tr th {\n",
       "        vertical-align: top;\n",
       "    }\n",
       "\n",
       "    .dataframe thead th {\n",
       "        text-align: right;\n",
       "    }\n",
       "</style>\n",
       "<table border=\"1\" class=\"dataframe\">\n",
       "  <thead>\n",
       "    <tr style=\"text-align: right;\">\n",
       "      <th></th>\n",
       "      <th>basefloodelevation</th>\n",
       "      <th>basementenclosurecrawlspacetype</th>\n",
       "      <th>condominiumindicator</th>\n",
       "      <th>construction</th>\n",
       "      <th>crsdiscount</th>\n",
       "      <th>deductibleamountinbuildingcoverage</th>\n",
       "      <th>deductibleamountincontentscoverage</th>\n",
       "      <th>elevatedbuildingindicator</th>\n",
       "      <th>elevationcertificateindicator</th>\n",
       "      <th>elevationdifference</th>\n",
       "      <th>...</th>\n",
       "      <th>lowestfloorelevation</th>\n",
       "      <th>numberoffloorsininsuredbuilding</th>\n",
       "      <th>occupancytype</th>\n",
       "      <th>primaryresidenceindicator</th>\n",
       "      <th>ratemethod</th>\n",
       "      <th>smallbusinessindicatorbuilding</th>\n",
       "      <th>totalbuildinginsurancecoverage</th>\n",
       "      <th>totalcontentsinsurancecoverage</th>\n",
       "      <th>totalinsurancepremiumofthepolicy</th>\n",
       "      <th>buildingage</th>\n",
       "    </tr>\n",
       "  </thead>\n",
       "  <tbody>\n",
       "    <tr>\n",
       "      <th>0</th>\n",
       "      <td>NaN</td>\n",
       "      <td>0.0</td>\n",
       "      <td>N</td>\n",
       "      <td>N</td>\n",
       "      <td>0.0</td>\n",
       "      <td>F</td>\n",
       "      <td>F</td>\n",
       "      <td>N</td>\n",
       "      <td>NaN</td>\n",
       "      <td>999</td>\n",
       "      <td>...</td>\n",
       "      <td>NaN</td>\n",
       "      <td>1.0</td>\n",
       "      <td>1</td>\n",
       "      <td>N</td>\n",
       "      <td>7</td>\n",
       "      <td>N</td>\n",
       "      <td>250000</td>\n",
       "      <td>100000</td>\n",
       "      <td>376</td>\n",
       "      <td>60.0</td>\n",
       "    </tr>\n",
       "    <tr>\n",
       "      <th>1</th>\n",
       "      <td>NaN</td>\n",
       "      <td>0.0</td>\n",
       "      <td>N</td>\n",
       "      <td>N</td>\n",
       "      <td>0.0</td>\n",
       "      <td>F</td>\n",
       "      <td>F</td>\n",
       "      <td>N</td>\n",
       "      <td>NaN</td>\n",
       "      <td>999</td>\n",
       "      <td>...</td>\n",
       "      <td>NaN</td>\n",
       "      <td>1.0</td>\n",
       "      <td>1</td>\n",
       "      <td>Y</td>\n",
       "      <td>7</td>\n",
       "      <td>N</td>\n",
       "      <td>200000</td>\n",
       "      <td>80000</td>\n",
       "      <td>353</td>\n",
       "      <td>54.0</td>\n",
       "    </tr>\n",
       "    <tr>\n",
       "      <th>2</th>\n",
       "      <td>NaN</td>\n",
       "      <td>0.0</td>\n",
       "      <td>N</td>\n",
       "      <td>N</td>\n",
       "      <td>0.0</td>\n",
       "      <td>F</td>\n",
       "      <td>F</td>\n",
       "      <td>N</td>\n",
       "      <td>NaN</td>\n",
       "      <td>999</td>\n",
       "      <td>...</td>\n",
       "      <td>NaN</td>\n",
       "      <td>1.0</td>\n",
       "      <td>1</td>\n",
       "      <td>Y</td>\n",
       "      <td>7</td>\n",
       "      <td>N</td>\n",
       "      <td>250000</td>\n",
       "      <td>100000</td>\n",
       "      <td>374</td>\n",
       "      <td>13.0</td>\n",
       "    </tr>\n",
       "    <tr>\n",
       "      <th>3</th>\n",
       "      <td>NaN</td>\n",
       "      <td>0.0</td>\n",
       "      <td>N</td>\n",
       "      <td>N</td>\n",
       "      <td>0.0</td>\n",
       "      <td>F</td>\n",
       "      <td>F</td>\n",
       "      <td>N</td>\n",
       "      <td>NaN</td>\n",
       "      <td>999</td>\n",
       "      <td>...</td>\n",
       "      <td>NaN</td>\n",
       "      <td>3.0</td>\n",
       "      <td>1</td>\n",
       "      <td>Y</td>\n",
       "      <td>7</td>\n",
       "      <td>N</td>\n",
       "      <td>250000</td>\n",
       "      <td>100000</td>\n",
       "      <td>376</td>\n",
       "      <td>17.0</td>\n",
       "    </tr>\n",
       "    <tr>\n",
       "      <th>4</th>\n",
       "      <td>NaN</td>\n",
       "      <td>0.0</td>\n",
       "      <td>N</td>\n",
       "      <td>N</td>\n",
       "      <td>0.0</td>\n",
       "      <td>F</td>\n",
       "      <td>F</td>\n",
       "      <td>N</td>\n",
       "      <td>NaN</td>\n",
       "      <td>999</td>\n",
       "      <td>...</td>\n",
       "      <td>NaN</td>\n",
       "      <td>1.0</td>\n",
       "      <td>1</td>\n",
       "      <td>Y</td>\n",
       "      <td>7</td>\n",
       "      <td>N</td>\n",
       "      <td>250000</td>\n",
       "      <td>100000</td>\n",
       "      <td>376</td>\n",
       "      <td>38.0</td>\n",
       "    </tr>\n",
       "  </tbody>\n",
       "</table>\n",
       "<p>5 rows × 23 columns</p>\n",
       "</div>"
      ],
      "text/plain": [
       "   basefloodelevation  basementenclosurecrawlspacetype condominiumindicator  \\\n",
       "0                 NaN                              0.0                    N   \n",
       "1                 NaN                              0.0                    N   \n",
       "2                 NaN                              0.0                    N   \n",
       "3                 NaN                              0.0                    N   \n",
       "4                 NaN                              0.0                    N   \n",
       "\n",
       "  construction  crsdiscount deductibleamountinbuildingcoverage  \\\n",
       "0            N          0.0                                  F   \n",
       "1            N          0.0                                  F   \n",
       "2            N          0.0                                  F   \n",
       "3            N          0.0                                  F   \n",
       "4            N          0.0                                  F   \n",
       "\n",
       "  deductibleamountincontentscoverage elevatedbuildingindicator  \\\n",
       "0                                  F                         N   \n",
       "1                                  F                         N   \n",
       "2                                  F                         N   \n",
       "3                                  F                         N   \n",
       "4                                  F                         N   \n",
       "\n",
       "  elevationcertificateindicator  elevationdifference  ...  \\\n",
       "0                           NaN                  999  ...   \n",
       "1                           NaN                  999  ...   \n",
       "2                           NaN                  999  ...   \n",
       "3                           NaN                  999  ...   \n",
       "4                           NaN                  999  ...   \n",
       "\n",
       "  lowestfloorelevation numberoffloorsininsuredbuilding  occupancytype  \\\n",
       "0                  NaN                             1.0              1   \n",
       "1                  NaN                             1.0              1   \n",
       "2                  NaN                             1.0              1   \n",
       "3                  NaN                             3.0              1   \n",
       "4                  NaN                             1.0              1   \n",
       "\n",
       "   primaryresidenceindicator  ratemethod  smallbusinessindicatorbuilding  \\\n",
       "0                          N           7                               N   \n",
       "1                          Y           7                               N   \n",
       "2                          Y           7                               N   \n",
       "3                          Y           7                               N   \n",
       "4                          Y           7                               N   \n",
       "\n",
       "  totalbuildinginsurancecoverage totalcontentsinsurancecoverage  \\\n",
       "0                         250000                         100000   \n",
       "1                         200000                          80000   \n",
       "2                         250000                         100000   \n",
       "3                         250000                         100000   \n",
       "4                         250000                         100000   \n",
       "\n",
       "  totalinsurancepremiumofthepolicy  buildingage  \n",
       "0                              376         60.0  \n",
       "1                              353         54.0  \n",
       "2                              374         13.0  \n",
       "3                              376         17.0  \n",
       "4                              376         38.0  \n",
       "\n",
       "[5 rows x 23 columns]"
      ]
     },
     "execution_count": 48,
     "metadata": {},
     "output_type": "execute_result"
    }
   ],
   "source": [
    "df = df.drop(columns='policycount')\n",
    "df.head()"
   ]
  },
  {
   "cell_type": "markdown",
   "metadata": {},
   "source": [
    "Finally, let's apply the 95% rule for `totalbuildinginsurancecoverage` and `totalcontentsinsurancecoverage` to remove the extreme outlier values."
   ]
  },
  {
   "cell_type": "code",
   "execution_count": 49,
   "metadata": {},
   "outputs": [
    {
     "data": {
      "text/plain": [
       "(141774, 23)"
      ]
     },
     "execution_count": 49,
     "metadata": {},
     "output_type": "execute_result"
    }
   ],
   "source": [
    "lower, upper = df['totalbuildinginsurancecoverage'].quantile([0.025, 0.975])\n",
    "building_coverage = ((df['totalbuildinginsurancecoverage'] >= lower) & (df['totalbuildinginsurancecoverage'] <= upper))\n",
    "df = df[building_coverage]\n",
    "\n",
    "df.shape"
   ]
  },
  {
   "cell_type": "code",
   "execution_count": 50,
   "metadata": {},
   "outputs": [
    {
     "data": {
      "text/plain": [
       "(139776, 23)"
      ]
     },
     "execution_count": 50,
     "metadata": {},
     "output_type": "execute_result"
    }
   ],
   "source": [
    "lower, upper = df['totalcontentsinsurancecoverage'].quantile([0.025, 0.975])\n",
    "content_coverage = ((df['totalcontentsinsurancecoverage'] >= lower) & (df['totalcontentsinsurancecoverage'] <= upper))\n",
    "df = df[content_coverage]\n",
    "\n",
    "df.shape"
   ]
  },
  {
   "cell_type": "code",
   "execution_count": 51,
   "metadata": {},
   "outputs": [
    {
     "name": "stdout",
     "output_type": "stream",
     "text": [
      "<class 'pandas.core.frame.DataFrame'>\n",
      "Int64Index: 139776 entries, 0 to 155017\n",
      "Data columns (total 23 columns):\n",
      " #   Column                              Non-Null Count   Dtype  \n",
      "---  ------                              --------------   -----  \n",
      " 0   basefloodelevation                  20187 non-null   float64\n",
      " 1   basementenclosurecrawlspacetype     139770 non-null  float64\n",
      " 2   condominiumindicator                139776 non-null  object \n",
      " 3   construction                        139776 non-null  object \n",
      " 4   crsdiscount                         139776 non-null  float64\n",
      " 5   deductibleamountinbuildingcoverage  139776 non-null  object \n",
      " 6   deductibleamountincontentscoverage  133454 non-null  object \n",
      " 7   elevatedbuildingindicator           139770 non-null  object \n",
      " 8   elevationcertificateindicator       40032 non-null   object \n",
      " 9   elevationdifference                 139776 non-null  int64  \n",
      " 10  floodzone                           139775 non-null  object \n",
      " 11  locationofcontents                  118473 non-null  object \n",
      " 12  lowestadjacentgrade                 20111 non-null   float64\n",
      " 13  lowestfloorelevation                20365 non-null   float64\n",
      " 14  numberoffloorsininsuredbuilding     139773 non-null  float64\n",
      " 15  occupancytype                       139776 non-null  int64  \n",
      " 16  primaryresidenceindicator           139776 non-null  object \n",
      " 17  ratemethod                          138819 non-null  object \n",
      " 18  smallbusinessindicatorbuilding      139759 non-null  object \n",
      " 19  totalbuildinginsurancecoverage      139776 non-null  int64  \n",
      " 20  totalcontentsinsurancecoverage      139776 non-null  int64  \n",
      " 21  totalinsurancepremiumofthepolicy    139776 non-null  int64  \n",
      " 22  buildingage                         139776 non-null  float64\n",
      "dtypes: float64(7), int64(5), object(11)\n",
      "memory usage: 25.6+ MB\n"
     ]
    }
   ],
   "source": [
    "df.info()"
   ]
  },
  {
   "cell_type": "markdown",
   "metadata": {},
   "source": [
    "Let's check again the missing values for each variable."
   ]
  },
  {
   "cell_type": "code",
   "execution_count": 52,
   "metadata": {},
   "outputs": [
    {
     "data": {
      "text/html": [
       "<div>\n",
       "<style scoped>\n",
       "    .dataframe tbody tr th:only-of-type {\n",
       "        vertical-align: middle;\n",
       "    }\n",
       "\n",
       "    .dataframe tbody tr th {\n",
       "        vertical-align: top;\n",
       "    }\n",
       "\n",
       "    .dataframe thead th {\n",
       "        text-align: right;\n",
       "    }\n",
       "</style>\n",
       "<table border=\"1\" class=\"dataframe\">\n",
       "  <thead>\n",
       "    <tr style=\"text-align: right;\">\n",
       "      <th></th>\n",
       "      <th>count</th>\n",
       "      <th>%</th>\n",
       "    </tr>\n",
       "  </thead>\n",
       "  <tbody>\n",
       "    <tr>\n",
       "      <th>lowestadjacentgrade</th>\n",
       "      <td>119665</td>\n",
       "      <td>85.611979</td>\n",
       "    </tr>\n",
       "    <tr>\n",
       "      <th>basefloodelevation</th>\n",
       "      <td>119589</td>\n",
       "      <td>85.557606</td>\n",
       "    </tr>\n",
       "    <tr>\n",
       "      <th>lowestfloorelevation</th>\n",
       "      <td>119411</td>\n",
       "      <td>85.430260</td>\n",
       "    </tr>\n",
       "    <tr>\n",
       "      <th>elevationcertificateindicator</th>\n",
       "      <td>99744</td>\n",
       "      <td>71.359890</td>\n",
       "    </tr>\n",
       "    <tr>\n",
       "      <th>locationofcontents</th>\n",
       "      <td>21303</td>\n",
       "      <td>15.240814</td>\n",
       "    </tr>\n",
       "    <tr>\n",
       "      <th>deductibleamountincontentscoverage</th>\n",
       "      <td>6322</td>\n",
       "      <td>4.522951</td>\n",
       "    </tr>\n",
       "    <tr>\n",
       "      <th>ratemethod</th>\n",
       "      <td>957</td>\n",
       "      <td>0.684667</td>\n",
       "    </tr>\n",
       "    <tr>\n",
       "      <th>smallbusinessindicatorbuilding</th>\n",
       "      <td>17</td>\n",
       "      <td>0.012162</td>\n",
       "    </tr>\n",
       "    <tr>\n",
       "      <th>elevatedbuildingindicator</th>\n",
       "      <td>6</td>\n",
       "      <td>0.004293</td>\n",
       "    </tr>\n",
       "    <tr>\n",
       "      <th>basementenclosurecrawlspacetype</th>\n",
       "      <td>6</td>\n",
       "      <td>0.004293</td>\n",
       "    </tr>\n",
       "    <tr>\n",
       "      <th>numberoffloorsininsuredbuilding</th>\n",
       "      <td>3</td>\n",
       "      <td>0.002146</td>\n",
       "    </tr>\n",
       "    <tr>\n",
       "      <th>floodzone</th>\n",
       "      <td>1</td>\n",
       "      <td>0.000715</td>\n",
       "    </tr>\n",
       "    <tr>\n",
       "      <th>primaryresidenceindicator</th>\n",
       "      <td>0</td>\n",
       "      <td>0.000000</td>\n",
       "    </tr>\n",
       "    <tr>\n",
       "      <th>totalinsurancepremiumofthepolicy</th>\n",
       "      <td>0</td>\n",
       "      <td>0.000000</td>\n",
       "    </tr>\n",
       "    <tr>\n",
       "      <th>totalcontentsinsurancecoverage</th>\n",
       "      <td>0</td>\n",
       "      <td>0.000000</td>\n",
       "    </tr>\n",
       "    <tr>\n",
       "      <th>totalbuildinginsurancecoverage</th>\n",
       "      <td>0</td>\n",
       "      <td>0.000000</td>\n",
       "    </tr>\n",
       "    <tr>\n",
       "      <th>deductibleamountinbuildingcoverage</th>\n",
       "      <td>0</td>\n",
       "      <td>0.000000</td>\n",
       "    </tr>\n",
       "    <tr>\n",
       "      <th>occupancytype</th>\n",
       "      <td>0</td>\n",
       "      <td>0.000000</td>\n",
       "    </tr>\n",
       "    <tr>\n",
       "      <th>condominiumindicator</th>\n",
       "      <td>0</td>\n",
       "      <td>0.000000</td>\n",
       "    </tr>\n",
       "    <tr>\n",
       "      <th>construction</th>\n",
       "      <td>0</td>\n",
       "      <td>0.000000</td>\n",
       "    </tr>\n",
       "    <tr>\n",
       "      <th>elevationdifference</th>\n",
       "      <td>0</td>\n",
       "      <td>0.000000</td>\n",
       "    </tr>\n",
       "    <tr>\n",
       "      <th>crsdiscount</th>\n",
       "      <td>0</td>\n",
       "      <td>0.000000</td>\n",
       "    </tr>\n",
       "    <tr>\n",
       "      <th>buildingage</th>\n",
       "      <td>0</td>\n",
       "      <td>0.000000</td>\n",
       "    </tr>\n",
       "  </tbody>\n",
       "</table>\n",
       "</div>"
      ],
      "text/plain": [
       "                                     count          %\n",
       "lowestadjacentgrade                 119665  85.611979\n",
       "basefloodelevation                  119589  85.557606\n",
       "lowestfloorelevation                119411  85.430260\n",
       "elevationcertificateindicator        99744  71.359890\n",
       "locationofcontents                   21303  15.240814\n",
       "deductibleamountincontentscoverage    6322   4.522951\n",
       "ratemethod                             957   0.684667\n",
       "smallbusinessindicatorbuilding          17   0.012162\n",
       "elevatedbuildingindicator                6   0.004293\n",
       "basementenclosurecrawlspacetype          6   0.004293\n",
       "numberoffloorsininsuredbuilding          3   0.002146\n",
       "floodzone                                1   0.000715\n",
       "primaryresidenceindicator                0   0.000000\n",
       "totalinsurancepremiumofthepolicy         0   0.000000\n",
       "totalcontentsinsurancecoverage           0   0.000000\n",
       "totalbuildinginsurancecoverage           0   0.000000\n",
       "deductibleamountinbuildingcoverage       0   0.000000\n",
       "occupancytype                            0   0.000000\n",
       "condominiumindicator                     0   0.000000\n",
       "construction                             0   0.000000\n",
       "elevationdifference                      0   0.000000\n",
       "crsdiscount                              0   0.000000\n",
       "buildingage                              0   0.000000"
      ]
     },
     "execution_count": 52,
     "metadata": {},
     "output_type": "execute_result"
    }
   ],
   "source": [
    "missing = pd.concat([df.isnull().sum(), 100 * df.isnull().mean()], axis=1)\n",
    "missing.columns=['count', '%']\n",
    "missing.sort_values(by='count', ascending=False)"
   ]
  },
  {
   "cell_type": "markdown",
   "metadata": {},
   "source": [
    "Because we are not 100% sure if we want to remove `lowestadjacentgrade`, `basefloodelevation`, and `lowestfloorelevation`, and `elevationcertificateindicato`, which have more than 70% of missing values, we will drop the records for other variables where they have missing values first."
   ]
  },
  {
   "cell_type": "code",
   "execution_count": 53,
   "metadata": {},
   "outputs": [
    {
     "name": "stdout",
     "output_type": "stream",
     "text": [
      "<class 'pandas.core.frame.DataFrame'>\n",
      "Int64Index: 117441 entries, 0 to 155017\n",
      "Data columns (total 23 columns):\n",
      " #   Column                              Non-Null Count   Dtype  \n",
      "---  ------                              --------------   -----  \n",
      " 0   basefloodelevation                  13533 non-null   float64\n",
      " 1   basementenclosurecrawlspacetype     117441 non-null  float64\n",
      " 2   condominiumindicator                117441 non-null  object \n",
      " 3   construction                        117441 non-null  object \n",
      " 4   crsdiscount                         117441 non-null  float64\n",
      " 5   deductibleamountinbuildingcoverage  117441 non-null  object \n",
      " 6   deductibleamountincontentscoverage  117441 non-null  object \n",
      " 7   elevatedbuildingindicator           117441 non-null  object \n",
      " 8   elevationcertificateindicator       36993 non-null   object \n",
      " 9   elevationdifference                 117441 non-null  int64  \n",
      " 10  floodzone                           117441 non-null  object \n",
      " 11  locationofcontents                  117441 non-null  object \n",
      " 12  lowestadjacentgrade                 13356 non-null   float64\n",
      " 13  lowestfloorelevation                13669 non-null   float64\n",
      " 14  numberoffloorsininsuredbuilding     117441 non-null  float64\n",
      " 15  occupancytype                       117441 non-null  int64  \n",
      " 16  primaryresidenceindicator           117441 non-null  object \n",
      " 17  ratemethod                          117441 non-null  object \n",
      " 18  smallbusinessindicatorbuilding      117441 non-null  object \n",
      " 19  totalbuildinginsurancecoverage      117441 non-null  int64  \n",
      " 20  totalcontentsinsurancecoverage      117441 non-null  int64  \n",
      " 21  totalinsurancepremiumofthepolicy    117441 non-null  int64  \n",
      " 22  buildingage                         117441 non-null  float64\n",
      "dtypes: float64(7), int64(5), object(11)\n",
      "memory usage: 21.5+ MB\n"
     ]
    }
   ],
   "source": [
    "df = df.dropna(subset=['floodzone','numberoffloorsininsuredbuilding','basementenclosurecrawlspacetype',\n",
    "                             'elevatedbuildingindicator','smallbusinessindicatorbuilding','ratemethod',\n",
    "                            'deductibleamountincontentscoverage', 'locationofcontents'])\n",
    "df.info()"
   ]
  },
  {
   "cell_type": "markdown",
   "metadata": {},
   "source": [
    "After we delete some variabes, we need to check if there are duplicate records again, and delete those duplicate values."
   ]
  },
  {
   "cell_type": "code",
   "execution_count": 54,
   "metadata": {},
   "outputs": [
    {
     "name": "stdout",
     "output_type": "stream",
     "text": [
      "<class 'pandas.core.frame.DataFrame'>\n",
      "Int64Index: 32364 entries, 0 to 155016\n",
      "Data columns (total 23 columns):\n",
      " #   Column                              Non-Null Count  Dtype  \n",
      "---  ------                              --------------  -----  \n",
      " 0   basefloodelevation                  13521 non-null  float64\n",
      " 1   basementenclosurecrawlspacetype     32364 non-null  float64\n",
      " 2   condominiumindicator                32364 non-null  object \n",
      " 3   construction                        32364 non-null  object \n",
      " 4   crsdiscount                         32364 non-null  float64\n",
      " 5   deductibleamountinbuildingcoverage  32364 non-null  object \n",
      " 6   deductibleamountincontentscoverage  32364 non-null  object \n",
      " 7   elevatedbuildingindicator           32364 non-null  object \n",
      " 8   elevationcertificateindicator       12130 non-null  object \n",
      " 9   elevationdifference                 32364 non-null  int64  \n",
      " 10  floodzone                           32364 non-null  object \n",
      " 11  locationofcontents                  32364 non-null  object \n",
      " 12  lowestadjacentgrade                 13344 non-null  float64\n",
      " 13  lowestfloorelevation                13657 non-null  float64\n",
      " 14  numberoffloorsininsuredbuilding     32364 non-null  float64\n",
      " 15  occupancytype                       32364 non-null  int64  \n",
      " 16  primaryresidenceindicator           32364 non-null  object \n",
      " 17  ratemethod                          32364 non-null  object \n",
      " 18  smallbusinessindicatorbuilding      32364 non-null  object \n",
      " 19  totalbuildinginsurancecoverage      32364 non-null  int64  \n",
      " 20  totalcontentsinsurancecoverage      32364 non-null  int64  \n",
      " 21  totalinsurancepremiumofthepolicy    32364 non-null  int64  \n",
      " 22  buildingage                         32364 non-null  float64\n",
      "dtypes: float64(7), int64(5), object(11)\n",
      "memory usage: 5.9+ MB\n"
     ]
    }
   ],
   "source": [
    "df.drop_duplicates(keep='first', inplace=True)\n",
    "df.info()"
   ]
  },
  {
   "cell_type": "markdown",
   "metadata": {},
   "source": [
    "Now we have no missing values for all variables except for those three: `lowestadjacentgrade`, `basefloodelevation`, and `lowestfloorelevation`. We will save this dataset to a new csv file. During EDA, we will conduct furture analysis to decide if we want to keep the three variables or not. "
   ]
  },
  {
   "cell_type": "code",
   "execution_count": 56,
   "metadata": {},
   "outputs": [],
   "source": [
    "df.to_csv('../data/houston-2019.csv', index=False)"
   ]
  },
  {
   "cell_type": "markdown",
   "metadata": {},
   "source": [
    "As we said earlier, we may also need the 2018 dataset. If we decide that we need them later, we will conduct the same data cleaning process to generate the new dataset for 2018. "
   ]
  },
  {
   "cell_type": "markdown",
   "metadata": {},
   "source": [
    "## 1.7 Summary<a id='1.7_Summary'></a>"
   ]
  },
  {
   "cell_type": "markdown",
   "metadata": {},
   "source": [
    "We conducted the data cleaning and pre-processing to check the missing values and outlier values, to decide which variables we want to use in the modeling, to explore the distributions of some numerical features, and to explore the median values for some categorical features. In the end, we have a much cleaner dataset which we will conduct further analysis in EDA."
   ]
  },
  {
   "cell_type": "code",
   "execution_count": null,
   "metadata": {},
   "outputs": [],
   "source": []
  }
 ],
 "metadata": {
  "kernelspec": {
   "display_name": "Python 3 (ipykernel)",
   "language": "python",
   "name": "python3"
  },
  "language_info": {
   "codemirror_mode": {
    "name": "ipython",
    "version": 3
   },
   "file_extension": ".py",
   "mimetype": "text/x-python",
   "name": "python",
   "nbconvert_exporter": "python",
   "pygments_lexer": "ipython3",
   "version": "3.9.12"
  },
  "toc": {
   "base_numbering": 1,
   "nav_menu": {},
   "number_sections": true,
   "sideBar": true,
   "skip_h1_title": false,
   "title_cell": "Table of Contents",
   "title_sidebar": "Contents",
   "toc_cell": false,
   "toc_position": {},
   "toc_section_display": true,
   "toc_window_display": true
  },
  "varInspector": {
   "cols": {
    "lenName": 16,
    "lenType": 16,
    "lenVar": 40
   },
   "kernels_config": {
    "python": {
     "delete_cmd_postfix": "",
     "delete_cmd_prefix": "del ",
     "library": "var_list.py",
     "varRefreshCmd": "print(var_dic_list())"
    },
    "r": {
     "delete_cmd_postfix": ") ",
     "delete_cmd_prefix": "rm(",
     "library": "var_list.r",
     "varRefreshCmd": "cat(var_dic_list()) "
    }
   },
   "types_to_exclude": [
    "module",
    "function",
    "builtin_function_or_method",
    "instance",
    "_Feature"
   ],
   "window_display": false
  }
 },
 "nbformat": 4,
 "nbformat_minor": 4
}
